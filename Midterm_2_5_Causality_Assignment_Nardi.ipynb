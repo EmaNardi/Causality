{
  "nbformat": 4,
  "nbformat_minor": 0,
  "metadata": {
    "colab": {
      "provenance": [],
      "gpuType": "T4",
      "include_colab_link": true
    },
    "kernelspec": {
      "name": "python3",
      "display_name": "Python 3"
    },
    "language_info": {
      "name": "python"
    },
    "accelerator": "GPU",
    "widgets": {
      "application/vnd.jupyter.widget-state+json": {
        "1352658559f74238b9820a359cecd206": {
          "model_module": "@jupyter-widgets/controls",
          "model_name": "HBoxModel",
          "model_module_version": "2.0.0",
          "state": {
            "_dom_classes": [],
            "_model_module": "@jupyter-widgets/controls",
            "_model_module_version": "2.0.0",
            "_model_name": "HBoxModel",
            "_view_count": null,
            "_view_module": "@jupyter-widgets/controls",
            "_view_module_version": "2.0.0",
            "_view_name": "HBoxView",
            "box_style": "",
            "children": [
              "IPY_MODEL_bfbf982de15d48f490a48e11ccab7849",
              "IPY_MODEL_810b3dfce23c437ea5a09001f6a39176",
              "IPY_MODEL_35415de308be4b6c8061ecd1b32bd211"
            ],
            "layout": "IPY_MODEL_420cc1d656a349a9985ce0cd82d53546",
            "tabbable": null,
            "tooltip": null
          }
        },
        "bfbf982de15d48f490a48e11ccab7849": {
          "model_module": "@jupyter-widgets/controls",
          "model_name": "HTMLModel",
          "model_module_version": "2.0.0",
          "state": {
            "_dom_classes": [],
            "_model_module": "@jupyter-widgets/controls",
            "_model_module_version": "2.0.0",
            "_model_name": "HTMLModel",
            "_view_count": null,
            "_view_module": "@jupyter-widgets/controls",
            "_view_module_version": "2.0.0",
            "_view_name": "HTMLView",
            "description": "",
            "description_allow_html": false,
            "layout": "IPY_MODEL_c453de03d70d4efbaa0b8751b0c90a39",
            "placeholder": "​",
            "style": "IPY_MODEL_fb3c493255c24f9298349568926bdac4",
            "tabbable": null,
            "tooltip": null,
            "value": "Depth=3, working on node 11: 100%"
          }
        },
        "810b3dfce23c437ea5a09001f6a39176": {
          "model_module": "@jupyter-widgets/controls",
          "model_name": "FloatProgressModel",
          "model_module_version": "2.0.0",
          "state": {
            "_dom_classes": [],
            "_model_module": "@jupyter-widgets/controls",
            "_model_module_version": "2.0.0",
            "_model_name": "FloatProgressModel",
            "_view_count": null,
            "_view_module": "@jupyter-widgets/controls",
            "_view_module_version": "2.0.0",
            "_view_name": "ProgressView",
            "bar_style": "success",
            "description": "",
            "description_allow_html": false,
            "layout": "IPY_MODEL_750862b886224d0482015740f4888ab8",
            "max": 12,
            "min": 0,
            "orientation": "horizontal",
            "style": "IPY_MODEL_95c6a2ce761248c29c8bb9c3925155d7",
            "tabbable": null,
            "tooltip": null,
            "value": 12
          }
        },
        "35415de308be4b6c8061ecd1b32bd211": {
          "model_module": "@jupyter-widgets/controls",
          "model_name": "HTMLModel",
          "model_module_version": "2.0.0",
          "state": {
            "_dom_classes": [],
            "_model_module": "@jupyter-widgets/controls",
            "_model_module_version": "2.0.0",
            "_model_name": "HTMLModel",
            "_view_count": null,
            "_view_module": "@jupyter-widgets/controls",
            "_view_module_version": "2.0.0",
            "_view_name": "HTMLView",
            "description": "",
            "description_allow_html": false,
            "layout": "IPY_MODEL_7857a95882644b55a84dcc76efc11969",
            "placeholder": "​",
            "style": "IPY_MODEL_62fd0420e1a54bf2bdf9cbd97e7e05c6",
            "tabbable": null,
            "tooltip": null,
            "value": " 12/12 [00:00&lt;00:00, 1391.22it/s]"
          }
        },
        "420cc1d656a349a9985ce0cd82d53546": {
          "model_module": "@jupyter-widgets/base",
          "model_name": "LayoutModel",
          "model_module_version": "2.0.0",
          "state": {
            "_model_module": "@jupyter-widgets/base",
            "_model_module_version": "2.0.0",
            "_model_name": "LayoutModel",
            "_view_count": null,
            "_view_module": "@jupyter-widgets/base",
            "_view_module_version": "2.0.0",
            "_view_name": "LayoutView",
            "align_content": null,
            "align_items": null,
            "align_self": null,
            "border_bottom": null,
            "border_left": null,
            "border_right": null,
            "border_top": null,
            "bottom": null,
            "display": null,
            "flex": null,
            "flex_flow": null,
            "grid_area": null,
            "grid_auto_columns": null,
            "grid_auto_flow": null,
            "grid_auto_rows": null,
            "grid_column": null,
            "grid_gap": null,
            "grid_row": null,
            "grid_template_areas": null,
            "grid_template_columns": null,
            "grid_template_rows": null,
            "height": null,
            "justify_content": null,
            "justify_items": null,
            "left": null,
            "margin": null,
            "max_height": null,
            "max_width": null,
            "min_height": null,
            "min_width": null,
            "object_fit": null,
            "object_position": null,
            "order": null,
            "overflow": null,
            "padding": null,
            "right": null,
            "top": null,
            "visibility": null,
            "width": null
          }
        },
        "c453de03d70d4efbaa0b8751b0c90a39": {
          "model_module": "@jupyter-widgets/base",
          "model_name": "LayoutModel",
          "model_module_version": "2.0.0",
          "state": {
            "_model_module": "@jupyter-widgets/base",
            "_model_module_version": "2.0.0",
            "_model_name": "LayoutModel",
            "_view_count": null,
            "_view_module": "@jupyter-widgets/base",
            "_view_module_version": "2.0.0",
            "_view_name": "LayoutView",
            "align_content": null,
            "align_items": null,
            "align_self": null,
            "border_bottom": null,
            "border_left": null,
            "border_right": null,
            "border_top": null,
            "bottom": null,
            "display": null,
            "flex": null,
            "flex_flow": null,
            "grid_area": null,
            "grid_auto_columns": null,
            "grid_auto_flow": null,
            "grid_auto_rows": null,
            "grid_column": null,
            "grid_gap": null,
            "grid_row": null,
            "grid_template_areas": null,
            "grid_template_columns": null,
            "grid_template_rows": null,
            "height": null,
            "justify_content": null,
            "justify_items": null,
            "left": null,
            "margin": null,
            "max_height": null,
            "max_width": null,
            "min_height": null,
            "min_width": null,
            "object_fit": null,
            "object_position": null,
            "order": null,
            "overflow": null,
            "padding": null,
            "right": null,
            "top": null,
            "visibility": null,
            "width": null
          }
        },
        "fb3c493255c24f9298349568926bdac4": {
          "model_module": "@jupyter-widgets/controls",
          "model_name": "HTMLStyleModel",
          "model_module_version": "2.0.0",
          "state": {
            "_model_module": "@jupyter-widgets/controls",
            "_model_module_version": "2.0.0",
            "_model_name": "HTMLStyleModel",
            "_view_count": null,
            "_view_module": "@jupyter-widgets/base",
            "_view_module_version": "2.0.0",
            "_view_name": "StyleView",
            "background": null,
            "description_width": "",
            "font_size": null,
            "text_color": null
          }
        },
        "750862b886224d0482015740f4888ab8": {
          "model_module": "@jupyter-widgets/base",
          "model_name": "LayoutModel",
          "model_module_version": "2.0.0",
          "state": {
            "_model_module": "@jupyter-widgets/base",
            "_model_module_version": "2.0.0",
            "_model_name": "LayoutModel",
            "_view_count": null,
            "_view_module": "@jupyter-widgets/base",
            "_view_module_version": "2.0.0",
            "_view_name": "LayoutView",
            "align_content": null,
            "align_items": null,
            "align_self": null,
            "border_bottom": null,
            "border_left": null,
            "border_right": null,
            "border_top": null,
            "bottom": null,
            "display": null,
            "flex": null,
            "flex_flow": null,
            "grid_area": null,
            "grid_auto_columns": null,
            "grid_auto_flow": null,
            "grid_auto_rows": null,
            "grid_column": null,
            "grid_gap": null,
            "grid_row": null,
            "grid_template_areas": null,
            "grid_template_columns": null,
            "grid_template_rows": null,
            "height": null,
            "justify_content": null,
            "justify_items": null,
            "left": null,
            "margin": null,
            "max_height": null,
            "max_width": null,
            "min_height": null,
            "min_width": null,
            "object_fit": null,
            "object_position": null,
            "order": null,
            "overflow": null,
            "padding": null,
            "right": null,
            "top": null,
            "visibility": null,
            "width": null
          }
        },
        "95c6a2ce761248c29c8bb9c3925155d7": {
          "model_module": "@jupyter-widgets/controls",
          "model_name": "ProgressStyleModel",
          "model_module_version": "2.0.0",
          "state": {
            "_model_module": "@jupyter-widgets/controls",
            "_model_module_version": "2.0.0",
            "_model_name": "ProgressStyleModel",
            "_view_count": null,
            "_view_module": "@jupyter-widgets/base",
            "_view_module_version": "2.0.0",
            "_view_name": "StyleView",
            "bar_color": null,
            "description_width": ""
          }
        },
        "7857a95882644b55a84dcc76efc11969": {
          "model_module": "@jupyter-widgets/base",
          "model_name": "LayoutModel",
          "model_module_version": "2.0.0",
          "state": {
            "_model_module": "@jupyter-widgets/base",
            "_model_module_version": "2.0.0",
            "_model_name": "LayoutModel",
            "_view_count": null,
            "_view_module": "@jupyter-widgets/base",
            "_view_module_version": "2.0.0",
            "_view_name": "LayoutView",
            "align_content": null,
            "align_items": null,
            "align_self": null,
            "border_bottom": null,
            "border_left": null,
            "border_right": null,
            "border_top": null,
            "bottom": null,
            "display": null,
            "flex": null,
            "flex_flow": null,
            "grid_area": null,
            "grid_auto_columns": null,
            "grid_auto_flow": null,
            "grid_auto_rows": null,
            "grid_column": null,
            "grid_gap": null,
            "grid_row": null,
            "grid_template_areas": null,
            "grid_template_columns": null,
            "grid_template_rows": null,
            "height": null,
            "justify_content": null,
            "justify_items": null,
            "left": null,
            "margin": null,
            "max_height": null,
            "max_width": null,
            "min_height": null,
            "min_width": null,
            "object_fit": null,
            "object_position": null,
            "order": null,
            "overflow": null,
            "padding": null,
            "right": null,
            "top": null,
            "visibility": null,
            "width": null
          }
        },
        "62fd0420e1a54bf2bdf9cbd97e7e05c6": {
          "model_module": "@jupyter-widgets/controls",
          "model_name": "HTMLStyleModel",
          "model_module_version": "2.0.0",
          "state": {
            "_model_module": "@jupyter-widgets/controls",
            "_model_module_version": "2.0.0",
            "_model_name": "HTMLStyleModel",
            "_view_count": null,
            "_view_module": "@jupyter-widgets/base",
            "_view_module_version": "2.0.0",
            "_view_name": "StyleView",
            "background": null,
            "description_width": "",
            "font_size": null,
            "text_color": null
          }
        },
        "2d9a5a07009e455f8055a5793d058ce2": {
          "model_module": "@jupyter-widgets/controls",
          "model_name": "HBoxModel",
          "model_module_version": "2.0.0",
          "state": {
            "_dom_classes": [],
            "_model_module": "@jupyter-widgets/controls",
            "_model_module_version": "2.0.0",
            "_model_name": "HBoxModel",
            "_view_count": null,
            "_view_module": "@jupyter-widgets/controls",
            "_view_module_version": "2.0.0",
            "_view_name": "HBoxView",
            "box_style": "",
            "children": [
              "IPY_MODEL_51f5efbb409d48f39322fed5c3d369c4",
              "IPY_MODEL_e837b11f101242c7b0931a049a5c8e45",
              "IPY_MODEL_4ea12946c4044918a18cc3bb66bf27a0"
            ],
            "layout": "IPY_MODEL_07d8e553db6049c4a8aab1a071411e62",
            "tabbable": null,
            "tooltip": null
          }
        },
        "51f5efbb409d48f39322fed5c3d369c4": {
          "model_module": "@jupyter-widgets/controls",
          "model_name": "HTMLModel",
          "model_module_version": "2.0.0",
          "state": {
            "_dom_classes": [],
            "_model_module": "@jupyter-widgets/controls",
            "_model_module_version": "2.0.0",
            "_model_name": "HTMLModel",
            "_view_count": null,
            "_view_module": "@jupyter-widgets/controls",
            "_view_module_version": "2.0.0",
            "_view_name": "HTMLView",
            "description": "",
            "description_allow_html": false,
            "layout": "IPY_MODEL_c67f56bd86ac434385046465687d3956",
            "placeholder": "​",
            "style": "IPY_MODEL_40cbe89f8844451ba7e387b69de195af",
            "tabbable": null,
            "tooltip": null,
            "value": "Depth=3, working on node 11: 100%"
          }
        },
        "e837b11f101242c7b0931a049a5c8e45": {
          "model_module": "@jupyter-widgets/controls",
          "model_name": "FloatProgressModel",
          "model_module_version": "2.0.0",
          "state": {
            "_dom_classes": [],
            "_model_module": "@jupyter-widgets/controls",
            "_model_module_version": "2.0.0",
            "_model_name": "FloatProgressModel",
            "_view_count": null,
            "_view_module": "@jupyter-widgets/controls",
            "_view_module_version": "2.0.0",
            "_view_name": "ProgressView",
            "bar_style": "success",
            "description": "",
            "description_allow_html": false,
            "layout": "IPY_MODEL_31c8440ff55241358f3cf1288a6c41f4",
            "max": 12,
            "min": 0,
            "orientation": "horizontal",
            "style": "IPY_MODEL_6f96509f3f084e02a1ca98164afecea5",
            "tabbable": null,
            "tooltip": null,
            "value": 12
          }
        },
        "4ea12946c4044918a18cc3bb66bf27a0": {
          "model_module": "@jupyter-widgets/controls",
          "model_name": "HTMLModel",
          "model_module_version": "2.0.0",
          "state": {
            "_dom_classes": [],
            "_model_module": "@jupyter-widgets/controls",
            "_model_module_version": "2.0.0",
            "_model_name": "HTMLModel",
            "_view_count": null,
            "_view_module": "@jupyter-widgets/controls",
            "_view_module_version": "2.0.0",
            "_view_name": "HTMLView",
            "description": "",
            "description_allow_html": false,
            "layout": "IPY_MODEL_b2dbd88546b7456d9de823580ab32fe9",
            "placeholder": "​",
            "style": "IPY_MODEL_a19341b46e7c470dac9e9699de9da1c5",
            "tabbable": null,
            "tooltip": null,
            "value": " 12/12 [00:00&lt;00:00, 1467.65it/s]"
          }
        },
        "07d8e553db6049c4a8aab1a071411e62": {
          "model_module": "@jupyter-widgets/base",
          "model_name": "LayoutModel",
          "model_module_version": "2.0.0",
          "state": {
            "_model_module": "@jupyter-widgets/base",
            "_model_module_version": "2.0.0",
            "_model_name": "LayoutModel",
            "_view_count": null,
            "_view_module": "@jupyter-widgets/base",
            "_view_module_version": "2.0.0",
            "_view_name": "LayoutView",
            "align_content": null,
            "align_items": null,
            "align_self": null,
            "border_bottom": null,
            "border_left": null,
            "border_right": null,
            "border_top": null,
            "bottom": null,
            "display": null,
            "flex": null,
            "flex_flow": null,
            "grid_area": null,
            "grid_auto_columns": null,
            "grid_auto_flow": null,
            "grid_auto_rows": null,
            "grid_column": null,
            "grid_gap": null,
            "grid_row": null,
            "grid_template_areas": null,
            "grid_template_columns": null,
            "grid_template_rows": null,
            "height": null,
            "justify_content": null,
            "justify_items": null,
            "left": null,
            "margin": null,
            "max_height": null,
            "max_width": null,
            "min_height": null,
            "min_width": null,
            "object_fit": null,
            "object_position": null,
            "order": null,
            "overflow": null,
            "padding": null,
            "right": null,
            "top": null,
            "visibility": null,
            "width": null
          }
        },
        "c67f56bd86ac434385046465687d3956": {
          "model_module": "@jupyter-widgets/base",
          "model_name": "LayoutModel",
          "model_module_version": "2.0.0",
          "state": {
            "_model_module": "@jupyter-widgets/base",
            "_model_module_version": "2.0.0",
            "_model_name": "LayoutModel",
            "_view_count": null,
            "_view_module": "@jupyter-widgets/base",
            "_view_module_version": "2.0.0",
            "_view_name": "LayoutView",
            "align_content": null,
            "align_items": null,
            "align_self": null,
            "border_bottom": null,
            "border_left": null,
            "border_right": null,
            "border_top": null,
            "bottom": null,
            "display": null,
            "flex": null,
            "flex_flow": null,
            "grid_area": null,
            "grid_auto_columns": null,
            "grid_auto_flow": null,
            "grid_auto_rows": null,
            "grid_column": null,
            "grid_gap": null,
            "grid_row": null,
            "grid_template_areas": null,
            "grid_template_columns": null,
            "grid_template_rows": null,
            "height": null,
            "justify_content": null,
            "justify_items": null,
            "left": null,
            "margin": null,
            "max_height": null,
            "max_width": null,
            "min_height": null,
            "min_width": null,
            "object_fit": null,
            "object_position": null,
            "order": null,
            "overflow": null,
            "padding": null,
            "right": null,
            "top": null,
            "visibility": null,
            "width": null
          }
        },
        "40cbe89f8844451ba7e387b69de195af": {
          "model_module": "@jupyter-widgets/controls",
          "model_name": "HTMLStyleModel",
          "model_module_version": "2.0.0",
          "state": {
            "_model_module": "@jupyter-widgets/controls",
            "_model_module_version": "2.0.0",
            "_model_name": "HTMLStyleModel",
            "_view_count": null,
            "_view_module": "@jupyter-widgets/base",
            "_view_module_version": "2.0.0",
            "_view_name": "StyleView",
            "background": null,
            "description_width": "",
            "font_size": null,
            "text_color": null
          }
        },
        "31c8440ff55241358f3cf1288a6c41f4": {
          "model_module": "@jupyter-widgets/base",
          "model_name": "LayoutModel",
          "model_module_version": "2.0.0",
          "state": {
            "_model_module": "@jupyter-widgets/base",
            "_model_module_version": "2.0.0",
            "_model_name": "LayoutModel",
            "_view_count": null,
            "_view_module": "@jupyter-widgets/base",
            "_view_module_version": "2.0.0",
            "_view_name": "LayoutView",
            "align_content": null,
            "align_items": null,
            "align_self": null,
            "border_bottom": null,
            "border_left": null,
            "border_right": null,
            "border_top": null,
            "bottom": null,
            "display": null,
            "flex": null,
            "flex_flow": null,
            "grid_area": null,
            "grid_auto_columns": null,
            "grid_auto_flow": null,
            "grid_auto_rows": null,
            "grid_column": null,
            "grid_gap": null,
            "grid_row": null,
            "grid_template_areas": null,
            "grid_template_columns": null,
            "grid_template_rows": null,
            "height": null,
            "justify_content": null,
            "justify_items": null,
            "left": null,
            "margin": null,
            "max_height": null,
            "max_width": null,
            "min_height": null,
            "min_width": null,
            "object_fit": null,
            "object_position": null,
            "order": null,
            "overflow": null,
            "padding": null,
            "right": null,
            "top": null,
            "visibility": null,
            "width": null
          }
        },
        "6f96509f3f084e02a1ca98164afecea5": {
          "model_module": "@jupyter-widgets/controls",
          "model_name": "ProgressStyleModel",
          "model_module_version": "2.0.0",
          "state": {
            "_model_module": "@jupyter-widgets/controls",
            "_model_module_version": "2.0.0",
            "_model_name": "ProgressStyleModel",
            "_view_count": null,
            "_view_module": "@jupyter-widgets/base",
            "_view_module_version": "2.0.0",
            "_view_name": "StyleView",
            "bar_color": null,
            "description_width": ""
          }
        },
        "b2dbd88546b7456d9de823580ab32fe9": {
          "model_module": "@jupyter-widgets/base",
          "model_name": "LayoutModel",
          "model_module_version": "2.0.0",
          "state": {
            "_model_module": "@jupyter-widgets/base",
            "_model_module_version": "2.0.0",
            "_model_name": "LayoutModel",
            "_view_count": null,
            "_view_module": "@jupyter-widgets/base",
            "_view_module_version": "2.0.0",
            "_view_name": "LayoutView",
            "align_content": null,
            "align_items": null,
            "align_self": null,
            "border_bottom": null,
            "border_left": null,
            "border_right": null,
            "border_top": null,
            "bottom": null,
            "display": null,
            "flex": null,
            "flex_flow": null,
            "grid_area": null,
            "grid_auto_columns": null,
            "grid_auto_flow": null,
            "grid_auto_rows": null,
            "grid_column": null,
            "grid_gap": null,
            "grid_row": null,
            "grid_template_areas": null,
            "grid_template_columns": null,
            "grid_template_rows": null,
            "height": null,
            "justify_content": null,
            "justify_items": null,
            "left": null,
            "margin": null,
            "max_height": null,
            "max_width": null,
            "min_height": null,
            "min_width": null,
            "object_fit": null,
            "object_position": null,
            "order": null,
            "overflow": null,
            "padding": null,
            "right": null,
            "top": null,
            "visibility": null,
            "width": null
          }
        },
        "a19341b46e7c470dac9e9699de9da1c5": {
          "model_module": "@jupyter-widgets/controls",
          "model_name": "HTMLStyleModel",
          "model_module_version": "2.0.0",
          "state": {
            "_model_module": "@jupyter-widgets/controls",
            "_model_module_version": "2.0.0",
            "_model_name": "HTMLStyleModel",
            "_view_count": null,
            "_view_module": "@jupyter-widgets/base",
            "_view_module_version": "2.0.0",
            "_view_name": "StyleView",
            "background": null,
            "description_width": "",
            "font_size": null,
            "text_color": null
          }
        },
        "fa1ad3d5b1a145599c9919bf1e00b503": {
          "model_module": "@jupyter-widgets/controls",
          "model_name": "HBoxModel",
          "model_module_version": "2.0.0",
          "state": {
            "_dom_classes": [],
            "_model_module": "@jupyter-widgets/controls",
            "_model_module_version": "2.0.0",
            "_model_name": "HBoxModel",
            "_view_count": null,
            "_view_module": "@jupyter-widgets/controls",
            "_view_module_version": "2.0.0",
            "_view_name": "HBoxView",
            "box_style": "",
            "children": [
              "IPY_MODEL_58a742d6fd344abf8bcbe1a5f3800d08",
              "IPY_MODEL_3f7c4131582442c483ed990588361c54",
              "IPY_MODEL_f29686f6f15044bf90bb0ebdd04af0da"
            ],
            "layout": "IPY_MODEL_a9358984d66c4203ac66911e4f87503f",
            "tabbable": null,
            "tooltip": null
          }
        },
        "58a742d6fd344abf8bcbe1a5f3800d08": {
          "model_module": "@jupyter-widgets/controls",
          "model_name": "HTMLModel",
          "model_module_version": "2.0.0",
          "state": {
            "_dom_classes": [],
            "_model_module": "@jupyter-widgets/controls",
            "_model_module_version": "2.0.0",
            "_model_name": "HTMLModel",
            "_view_count": null,
            "_view_module": "@jupyter-widgets/controls",
            "_view_module_version": "2.0.0",
            "_view_name": "HTMLView",
            "description": "",
            "description_allow_html": false,
            "layout": "IPY_MODEL_d855fad858994fccb6b9d48f8d36293d",
            "placeholder": "​",
            "style": "IPY_MODEL_82414c6f08244c25ba3b428b709410e8",
            "tabbable": null,
            "tooltip": null,
            "value": "Depth=3, working on node 11: 100%"
          }
        },
        "3f7c4131582442c483ed990588361c54": {
          "model_module": "@jupyter-widgets/controls",
          "model_name": "FloatProgressModel",
          "model_module_version": "2.0.0",
          "state": {
            "_dom_classes": [],
            "_model_module": "@jupyter-widgets/controls",
            "_model_module_version": "2.0.0",
            "_model_name": "FloatProgressModel",
            "_view_count": null,
            "_view_module": "@jupyter-widgets/controls",
            "_view_module_version": "2.0.0",
            "_view_name": "ProgressView",
            "bar_style": "success",
            "description": "",
            "description_allow_html": false,
            "layout": "IPY_MODEL_5df8f672c14645eba03f33b0f34f8046",
            "max": 12,
            "min": 0,
            "orientation": "horizontal",
            "style": "IPY_MODEL_79c539caeed34440beaac4b7e062f774",
            "tabbable": null,
            "tooltip": null,
            "value": 12
          }
        },
        "f29686f6f15044bf90bb0ebdd04af0da": {
          "model_module": "@jupyter-widgets/controls",
          "model_name": "HTMLModel",
          "model_module_version": "2.0.0",
          "state": {
            "_dom_classes": [],
            "_model_module": "@jupyter-widgets/controls",
            "_model_module_version": "2.0.0",
            "_model_name": "HTMLModel",
            "_view_count": null,
            "_view_module": "@jupyter-widgets/controls",
            "_view_module_version": "2.0.0",
            "_view_name": "HTMLView",
            "description": "",
            "description_allow_html": false,
            "layout": "IPY_MODEL_f786228fc0264977900da4ad54832b68",
            "placeholder": "​",
            "style": "IPY_MODEL_bbdc06b69e014f2bbf71fb03abc7712c",
            "tabbable": null,
            "tooltip": null,
            "value": " 12/12 [00:00&lt;00:00, 1682.49it/s]"
          }
        },
        "a9358984d66c4203ac66911e4f87503f": {
          "model_module": "@jupyter-widgets/base",
          "model_name": "LayoutModel",
          "model_module_version": "2.0.0",
          "state": {
            "_model_module": "@jupyter-widgets/base",
            "_model_module_version": "2.0.0",
            "_model_name": "LayoutModel",
            "_view_count": null,
            "_view_module": "@jupyter-widgets/base",
            "_view_module_version": "2.0.0",
            "_view_name": "LayoutView",
            "align_content": null,
            "align_items": null,
            "align_self": null,
            "border_bottom": null,
            "border_left": null,
            "border_right": null,
            "border_top": null,
            "bottom": null,
            "display": null,
            "flex": null,
            "flex_flow": null,
            "grid_area": null,
            "grid_auto_columns": null,
            "grid_auto_flow": null,
            "grid_auto_rows": null,
            "grid_column": null,
            "grid_gap": null,
            "grid_row": null,
            "grid_template_areas": null,
            "grid_template_columns": null,
            "grid_template_rows": null,
            "height": null,
            "justify_content": null,
            "justify_items": null,
            "left": null,
            "margin": null,
            "max_height": null,
            "max_width": null,
            "min_height": null,
            "min_width": null,
            "object_fit": null,
            "object_position": null,
            "order": null,
            "overflow": null,
            "padding": null,
            "right": null,
            "top": null,
            "visibility": null,
            "width": null
          }
        },
        "d855fad858994fccb6b9d48f8d36293d": {
          "model_module": "@jupyter-widgets/base",
          "model_name": "LayoutModel",
          "model_module_version": "2.0.0",
          "state": {
            "_model_module": "@jupyter-widgets/base",
            "_model_module_version": "2.0.0",
            "_model_name": "LayoutModel",
            "_view_count": null,
            "_view_module": "@jupyter-widgets/base",
            "_view_module_version": "2.0.0",
            "_view_name": "LayoutView",
            "align_content": null,
            "align_items": null,
            "align_self": null,
            "border_bottom": null,
            "border_left": null,
            "border_right": null,
            "border_top": null,
            "bottom": null,
            "display": null,
            "flex": null,
            "flex_flow": null,
            "grid_area": null,
            "grid_auto_columns": null,
            "grid_auto_flow": null,
            "grid_auto_rows": null,
            "grid_column": null,
            "grid_gap": null,
            "grid_row": null,
            "grid_template_areas": null,
            "grid_template_columns": null,
            "grid_template_rows": null,
            "height": null,
            "justify_content": null,
            "justify_items": null,
            "left": null,
            "margin": null,
            "max_height": null,
            "max_width": null,
            "min_height": null,
            "min_width": null,
            "object_fit": null,
            "object_position": null,
            "order": null,
            "overflow": null,
            "padding": null,
            "right": null,
            "top": null,
            "visibility": null,
            "width": null
          }
        },
        "82414c6f08244c25ba3b428b709410e8": {
          "model_module": "@jupyter-widgets/controls",
          "model_name": "HTMLStyleModel",
          "model_module_version": "2.0.0",
          "state": {
            "_model_module": "@jupyter-widgets/controls",
            "_model_module_version": "2.0.0",
            "_model_name": "HTMLStyleModel",
            "_view_count": null,
            "_view_module": "@jupyter-widgets/base",
            "_view_module_version": "2.0.0",
            "_view_name": "StyleView",
            "background": null,
            "description_width": "",
            "font_size": null,
            "text_color": null
          }
        },
        "5df8f672c14645eba03f33b0f34f8046": {
          "model_module": "@jupyter-widgets/base",
          "model_name": "LayoutModel",
          "model_module_version": "2.0.0",
          "state": {
            "_model_module": "@jupyter-widgets/base",
            "_model_module_version": "2.0.0",
            "_model_name": "LayoutModel",
            "_view_count": null,
            "_view_module": "@jupyter-widgets/base",
            "_view_module_version": "2.0.0",
            "_view_name": "LayoutView",
            "align_content": null,
            "align_items": null,
            "align_self": null,
            "border_bottom": null,
            "border_left": null,
            "border_right": null,
            "border_top": null,
            "bottom": null,
            "display": null,
            "flex": null,
            "flex_flow": null,
            "grid_area": null,
            "grid_auto_columns": null,
            "grid_auto_flow": null,
            "grid_auto_rows": null,
            "grid_column": null,
            "grid_gap": null,
            "grid_row": null,
            "grid_template_areas": null,
            "grid_template_columns": null,
            "grid_template_rows": null,
            "height": null,
            "justify_content": null,
            "justify_items": null,
            "left": null,
            "margin": null,
            "max_height": null,
            "max_width": null,
            "min_height": null,
            "min_width": null,
            "object_fit": null,
            "object_position": null,
            "order": null,
            "overflow": null,
            "padding": null,
            "right": null,
            "top": null,
            "visibility": null,
            "width": null
          }
        },
        "79c539caeed34440beaac4b7e062f774": {
          "model_module": "@jupyter-widgets/controls",
          "model_name": "ProgressStyleModel",
          "model_module_version": "2.0.0",
          "state": {
            "_model_module": "@jupyter-widgets/controls",
            "_model_module_version": "2.0.0",
            "_model_name": "ProgressStyleModel",
            "_view_count": null,
            "_view_module": "@jupyter-widgets/base",
            "_view_module_version": "2.0.0",
            "_view_name": "StyleView",
            "bar_color": null,
            "description_width": ""
          }
        },
        "f786228fc0264977900da4ad54832b68": {
          "model_module": "@jupyter-widgets/base",
          "model_name": "LayoutModel",
          "model_module_version": "2.0.0",
          "state": {
            "_model_module": "@jupyter-widgets/base",
            "_model_module_version": "2.0.0",
            "_model_name": "LayoutModel",
            "_view_count": null,
            "_view_module": "@jupyter-widgets/base",
            "_view_module_version": "2.0.0",
            "_view_name": "LayoutView",
            "align_content": null,
            "align_items": null,
            "align_self": null,
            "border_bottom": null,
            "border_left": null,
            "border_right": null,
            "border_top": null,
            "bottom": null,
            "display": null,
            "flex": null,
            "flex_flow": null,
            "grid_area": null,
            "grid_auto_columns": null,
            "grid_auto_flow": null,
            "grid_auto_rows": null,
            "grid_column": null,
            "grid_gap": null,
            "grid_row": null,
            "grid_template_areas": null,
            "grid_template_columns": null,
            "grid_template_rows": null,
            "height": null,
            "justify_content": null,
            "justify_items": null,
            "left": null,
            "margin": null,
            "max_height": null,
            "max_width": null,
            "min_height": null,
            "min_width": null,
            "object_fit": null,
            "object_position": null,
            "order": null,
            "overflow": null,
            "padding": null,
            "right": null,
            "top": null,
            "visibility": null,
            "width": null
          }
        },
        "bbdc06b69e014f2bbf71fb03abc7712c": {
          "model_module": "@jupyter-widgets/controls",
          "model_name": "HTMLStyleModel",
          "model_module_version": "2.0.0",
          "state": {
            "_model_module": "@jupyter-widgets/controls",
            "_model_module_version": "2.0.0",
            "_model_name": "HTMLStyleModel",
            "_view_count": null,
            "_view_module": "@jupyter-widgets/base",
            "_view_module_version": "2.0.0",
            "_view_name": "StyleView",
            "background": null,
            "description_width": "",
            "font_size": null,
            "text_color": null
          }
        },
        "9ce31e53909642e98aac3d86b9a1fb4c": {
          "model_module": "@jupyter-widgets/controls",
          "model_name": "HBoxModel",
          "model_module_version": "2.0.0",
          "state": {
            "_dom_classes": [],
            "_model_module": "@jupyter-widgets/controls",
            "_model_module_version": "2.0.0",
            "_model_name": "HBoxModel",
            "_view_count": null,
            "_view_module": "@jupyter-widgets/controls",
            "_view_module_version": "2.0.0",
            "_view_name": "HBoxView",
            "box_style": "",
            "children": [
              "IPY_MODEL_58598ec5f1164ef489097f18c6ec26c3",
              "IPY_MODEL_e8eee1fb60bb4a5a8e2244c490999f1d",
              "IPY_MODEL_6016ebfc21404a09a7af9b077f5ea2aa"
            ],
            "layout": "IPY_MODEL_5facd39296c54235970ee92f6f2d422f",
            "tabbable": null,
            "tooltip": null
          }
        },
        "58598ec5f1164ef489097f18c6ec26c3": {
          "model_module": "@jupyter-widgets/controls",
          "model_name": "HTMLModel",
          "model_module_version": "2.0.0",
          "state": {
            "_dom_classes": [],
            "_model_module": "@jupyter-widgets/controls",
            "_model_module_version": "2.0.0",
            "_model_name": "HTMLModel",
            "_view_count": null,
            "_view_module": "@jupyter-widgets/controls",
            "_view_module_version": "2.0.0",
            "_view_name": "HTMLView",
            "description": "",
            "description_allow_html": false,
            "layout": "IPY_MODEL_b2af29fb755641de9b521cb642ab2468",
            "placeholder": "​",
            "style": "IPY_MODEL_bdd20b0423864d5ab1b601a2c9719589",
            "tabbable": null,
            "tooltip": null,
            "value": "Depth=3, working on node 11: 100%"
          }
        },
        "e8eee1fb60bb4a5a8e2244c490999f1d": {
          "model_module": "@jupyter-widgets/controls",
          "model_name": "FloatProgressModel",
          "model_module_version": "2.0.0",
          "state": {
            "_dom_classes": [],
            "_model_module": "@jupyter-widgets/controls",
            "_model_module_version": "2.0.0",
            "_model_name": "FloatProgressModel",
            "_view_count": null,
            "_view_module": "@jupyter-widgets/controls",
            "_view_module_version": "2.0.0",
            "_view_name": "ProgressView",
            "bar_style": "success",
            "description": "",
            "description_allow_html": false,
            "layout": "IPY_MODEL_508b1dedcec74da0ae248c61a56bb9e3",
            "max": 12,
            "min": 0,
            "orientation": "horizontal",
            "style": "IPY_MODEL_259ad7abe1524c9db2c3e5a5d1a5baec",
            "tabbable": null,
            "tooltip": null,
            "value": 12
          }
        },
        "6016ebfc21404a09a7af9b077f5ea2aa": {
          "model_module": "@jupyter-widgets/controls",
          "model_name": "HTMLModel",
          "model_module_version": "2.0.0",
          "state": {
            "_dom_classes": [],
            "_model_module": "@jupyter-widgets/controls",
            "_model_module_version": "2.0.0",
            "_model_name": "HTMLModel",
            "_view_count": null,
            "_view_module": "@jupyter-widgets/controls",
            "_view_module_version": "2.0.0",
            "_view_name": "HTMLView",
            "description": "",
            "description_allow_html": false,
            "layout": "IPY_MODEL_a4a0663a4d6544f6b85f65bc5b940ce7",
            "placeholder": "​",
            "style": "IPY_MODEL_7ad32728608d4717af0f44ad8f111bc6",
            "tabbable": null,
            "tooltip": null,
            "value": " 12/12 [00:00&lt;00:00, 1470.48it/s]"
          }
        },
        "5facd39296c54235970ee92f6f2d422f": {
          "model_module": "@jupyter-widgets/base",
          "model_name": "LayoutModel",
          "model_module_version": "2.0.0",
          "state": {
            "_model_module": "@jupyter-widgets/base",
            "_model_module_version": "2.0.0",
            "_model_name": "LayoutModel",
            "_view_count": null,
            "_view_module": "@jupyter-widgets/base",
            "_view_module_version": "2.0.0",
            "_view_name": "LayoutView",
            "align_content": null,
            "align_items": null,
            "align_self": null,
            "border_bottom": null,
            "border_left": null,
            "border_right": null,
            "border_top": null,
            "bottom": null,
            "display": null,
            "flex": null,
            "flex_flow": null,
            "grid_area": null,
            "grid_auto_columns": null,
            "grid_auto_flow": null,
            "grid_auto_rows": null,
            "grid_column": null,
            "grid_gap": null,
            "grid_row": null,
            "grid_template_areas": null,
            "grid_template_columns": null,
            "grid_template_rows": null,
            "height": null,
            "justify_content": null,
            "justify_items": null,
            "left": null,
            "margin": null,
            "max_height": null,
            "max_width": null,
            "min_height": null,
            "min_width": null,
            "object_fit": null,
            "object_position": null,
            "order": null,
            "overflow": null,
            "padding": null,
            "right": null,
            "top": null,
            "visibility": null,
            "width": null
          }
        },
        "b2af29fb755641de9b521cb642ab2468": {
          "model_module": "@jupyter-widgets/base",
          "model_name": "LayoutModel",
          "model_module_version": "2.0.0",
          "state": {
            "_model_module": "@jupyter-widgets/base",
            "_model_module_version": "2.0.0",
            "_model_name": "LayoutModel",
            "_view_count": null,
            "_view_module": "@jupyter-widgets/base",
            "_view_module_version": "2.0.0",
            "_view_name": "LayoutView",
            "align_content": null,
            "align_items": null,
            "align_self": null,
            "border_bottom": null,
            "border_left": null,
            "border_right": null,
            "border_top": null,
            "bottom": null,
            "display": null,
            "flex": null,
            "flex_flow": null,
            "grid_area": null,
            "grid_auto_columns": null,
            "grid_auto_flow": null,
            "grid_auto_rows": null,
            "grid_column": null,
            "grid_gap": null,
            "grid_row": null,
            "grid_template_areas": null,
            "grid_template_columns": null,
            "grid_template_rows": null,
            "height": null,
            "justify_content": null,
            "justify_items": null,
            "left": null,
            "margin": null,
            "max_height": null,
            "max_width": null,
            "min_height": null,
            "min_width": null,
            "object_fit": null,
            "object_position": null,
            "order": null,
            "overflow": null,
            "padding": null,
            "right": null,
            "top": null,
            "visibility": null,
            "width": null
          }
        },
        "bdd20b0423864d5ab1b601a2c9719589": {
          "model_module": "@jupyter-widgets/controls",
          "model_name": "HTMLStyleModel",
          "model_module_version": "2.0.0",
          "state": {
            "_model_module": "@jupyter-widgets/controls",
            "_model_module_version": "2.0.0",
            "_model_name": "HTMLStyleModel",
            "_view_count": null,
            "_view_module": "@jupyter-widgets/base",
            "_view_module_version": "2.0.0",
            "_view_name": "StyleView",
            "background": null,
            "description_width": "",
            "font_size": null,
            "text_color": null
          }
        },
        "508b1dedcec74da0ae248c61a56bb9e3": {
          "model_module": "@jupyter-widgets/base",
          "model_name": "LayoutModel",
          "model_module_version": "2.0.0",
          "state": {
            "_model_module": "@jupyter-widgets/base",
            "_model_module_version": "2.0.0",
            "_model_name": "LayoutModel",
            "_view_count": null,
            "_view_module": "@jupyter-widgets/base",
            "_view_module_version": "2.0.0",
            "_view_name": "LayoutView",
            "align_content": null,
            "align_items": null,
            "align_self": null,
            "border_bottom": null,
            "border_left": null,
            "border_right": null,
            "border_top": null,
            "bottom": null,
            "display": null,
            "flex": null,
            "flex_flow": null,
            "grid_area": null,
            "grid_auto_columns": null,
            "grid_auto_flow": null,
            "grid_auto_rows": null,
            "grid_column": null,
            "grid_gap": null,
            "grid_row": null,
            "grid_template_areas": null,
            "grid_template_columns": null,
            "grid_template_rows": null,
            "height": null,
            "justify_content": null,
            "justify_items": null,
            "left": null,
            "margin": null,
            "max_height": null,
            "max_width": null,
            "min_height": null,
            "min_width": null,
            "object_fit": null,
            "object_position": null,
            "order": null,
            "overflow": null,
            "padding": null,
            "right": null,
            "top": null,
            "visibility": null,
            "width": null
          }
        },
        "259ad7abe1524c9db2c3e5a5d1a5baec": {
          "model_module": "@jupyter-widgets/controls",
          "model_name": "ProgressStyleModel",
          "model_module_version": "2.0.0",
          "state": {
            "_model_module": "@jupyter-widgets/controls",
            "_model_module_version": "2.0.0",
            "_model_name": "ProgressStyleModel",
            "_view_count": null,
            "_view_module": "@jupyter-widgets/base",
            "_view_module_version": "2.0.0",
            "_view_name": "StyleView",
            "bar_color": null,
            "description_width": ""
          }
        },
        "a4a0663a4d6544f6b85f65bc5b940ce7": {
          "model_module": "@jupyter-widgets/base",
          "model_name": "LayoutModel",
          "model_module_version": "2.0.0",
          "state": {
            "_model_module": "@jupyter-widgets/base",
            "_model_module_version": "2.0.0",
            "_model_name": "LayoutModel",
            "_view_count": null,
            "_view_module": "@jupyter-widgets/base",
            "_view_module_version": "2.0.0",
            "_view_name": "LayoutView",
            "align_content": null,
            "align_items": null,
            "align_self": null,
            "border_bottom": null,
            "border_left": null,
            "border_right": null,
            "border_top": null,
            "bottom": null,
            "display": null,
            "flex": null,
            "flex_flow": null,
            "grid_area": null,
            "grid_auto_columns": null,
            "grid_auto_flow": null,
            "grid_auto_rows": null,
            "grid_column": null,
            "grid_gap": null,
            "grid_row": null,
            "grid_template_areas": null,
            "grid_template_columns": null,
            "grid_template_rows": null,
            "height": null,
            "justify_content": null,
            "justify_items": null,
            "left": null,
            "margin": null,
            "max_height": null,
            "max_width": null,
            "min_height": null,
            "min_width": null,
            "object_fit": null,
            "object_position": null,
            "order": null,
            "overflow": null,
            "padding": null,
            "right": null,
            "top": null,
            "visibility": null,
            "width": null
          }
        },
        "7ad32728608d4717af0f44ad8f111bc6": {
          "model_module": "@jupyter-widgets/controls",
          "model_name": "HTMLStyleModel",
          "model_module_version": "2.0.0",
          "state": {
            "_model_module": "@jupyter-widgets/controls",
            "_model_module_version": "2.0.0",
            "_model_name": "HTMLStyleModel",
            "_view_count": null,
            "_view_module": "@jupyter-widgets/base",
            "_view_module_version": "2.0.0",
            "_view_name": "StyleView",
            "background": null,
            "description_width": "",
            "font_size": null,
            "text_color": null
          }
        },
        "380e5c97a9994891a767e194bcf64259": {
          "model_module": "@jupyter-widgets/controls",
          "model_name": "HBoxModel",
          "model_module_version": "2.0.0",
          "state": {
            "_dom_classes": [],
            "_model_module": "@jupyter-widgets/controls",
            "_model_module_version": "2.0.0",
            "_model_name": "HBoxModel",
            "_view_count": null,
            "_view_module": "@jupyter-widgets/controls",
            "_view_module_version": "2.0.0",
            "_view_name": "HBoxView",
            "box_style": "",
            "children": [
              "IPY_MODEL_8c1cdac206264bfca635534baf22e72b",
              "IPY_MODEL_0ccf18c515b64ca2b64a9caf36bc2886",
              "IPY_MODEL_a851e281fd96493391268a7218e888c8"
            ],
            "layout": "IPY_MODEL_afd3efeac4bf4462b90db92c12584ea6",
            "tabbable": null,
            "tooltip": null
          }
        },
        "8c1cdac206264bfca635534baf22e72b": {
          "model_module": "@jupyter-widgets/controls",
          "model_name": "HTMLModel",
          "model_module_version": "2.0.0",
          "state": {
            "_dom_classes": [],
            "_model_module": "@jupyter-widgets/controls",
            "_model_module_version": "2.0.0",
            "_model_name": "HTMLModel",
            "_view_count": null,
            "_view_module": "@jupyter-widgets/controls",
            "_view_module_version": "2.0.0",
            "_view_name": "HTMLView",
            "description": "",
            "description_allow_html": false,
            "layout": "IPY_MODEL_634aeacb93af45e984c02a21d5d14288",
            "placeholder": "​",
            "style": "IPY_MODEL_e339fb524bf042dd997db392e2b23a9f",
            "tabbable": null,
            "tooltip": null,
            "value": "Depth=3, working on node 11: 100%"
          }
        },
        "0ccf18c515b64ca2b64a9caf36bc2886": {
          "model_module": "@jupyter-widgets/controls",
          "model_name": "FloatProgressModel",
          "model_module_version": "2.0.0",
          "state": {
            "_dom_classes": [],
            "_model_module": "@jupyter-widgets/controls",
            "_model_module_version": "2.0.0",
            "_model_name": "FloatProgressModel",
            "_view_count": null,
            "_view_module": "@jupyter-widgets/controls",
            "_view_module_version": "2.0.0",
            "_view_name": "ProgressView",
            "bar_style": "success",
            "description": "",
            "description_allow_html": false,
            "layout": "IPY_MODEL_46cd3781199e463eae4d08c7c2c03f0e",
            "max": 12,
            "min": 0,
            "orientation": "horizontal",
            "style": "IPY_MODEL_e9cf2b015b564324ac8912849bba8f15",
            "tabbable": null,
            "tooltip": null,
            "value": 12
          }
        },
        "a851e281fd96493391268a7218e888c8": {
          "model_module": "@jupyter-widgets/controls",
          "model_name": "HTMLModel",
          "model_module_version": "2.0.0",
          "state": {
            "_dom_classes": [],
            "_model_module": "@jupyter-widgets/controls",
            "_model_module_version": "2.0.0",
            "_model_name": "HTMLModel",
            "_view_count": null,
            "_view_module": "@jupyter-widgets/controls",
            "_view_module_version": "2.0.0",
            "_view_name": "HTMLView",
            "description": "",
            "description_allow_html": false,
            "layout": "IPY_MODEL_27c2c3a5275d4a17a266ee0b2bb51a21",
            "placeholder": "​",
            "style": "IPY_MODEL_848f02cfb4f746b397326446b5b42d93",
            "tabbable": null,
            "tooltip": null,
            "value": " 12/12 [00:00&lt;00:00, 1594.69it/s]"
          }
        },
        "afd3efeac4bf4462b90db92c12584ea6": {
          "model_module": "@jupyter-widgets/base",
          "model_name": "LayoutModel",
          "model_module_version": "2.0.0",
          "state": {
            "_model_module": "@jupyter-widgets/base",
            "_model_module_version": "2.0.0",
            "_model_name": "LayoutModel",
            "_view_count": null,
            "_view_module": "@jupyter-widgets/base",
            "_view_module_version": "2.0.0",
            "_view_name": "LayoutView",
            "align_content": null,
            "align_items": null,
            "align_self": null,
            "border_bottom": null,
            "border_left": null,
            "border_right": null,
            "border_top": null,
            "bottom": null,
            "display": null,
            "flex": null,
            "flex_flow": null,
            "grid_area": null,
            "grid_auto_columns": null,
            "grid_auto_flow": null,
            "grid_auto_rows": null,
            "grid_column": null,
            "grid_gap": null,
            "grid_row": null,
            "grid_template_areas": null,
            "grid_template_columns": null,
            "grid_template_rows": null,
            "height": null,
            "justify_content": null,
            "justify_items": null,
            "left": null,
            "margin": null,
            "max_height": null,
            "max_width": null,
            "min_height": null,
            "min_width": null,
            "object_fit": null,
            "object_position": null,
            "order": null,
            "overflow": null,
            "padding": null,
            "right": null,
            "top": null,
            "visibility": null,
            "width": null
          }
        },
        "634aeacb93af45e984c02a21d5d14288": {
          "model_module": "@jupyter-widgets/base",
          "model_name": "LayoutModel",
          "model_module_version": "2.0.0",
          "state": {
            "_model_module": "@jupyter-widgets/base",
            "_model_module_version": "2.0.0",
            "_model_name": "LayoutModel",
            "_view_count": null,
            "_view_module": "@jupyter-widgets/base",
            "_view_module_version": "2.0.0",
            "_view_name": "LayoutView",
            "align_content": null,
            "align_items": null,
            "align_self": null,
            "border_bottom": null,
            "border_left": null,
            "border_right": null,
            "border_top": null,
            "bottom": null,
            "display": null,
            "flex": null,
            "flex_flow": null,
            "grid_area": null,
            "grid_auto_columns": null,
            "grid_auto_flow": null,
            "grid_auto_rows": null,
            "grid_column": null,
            "grid_gap": null,
            "grid_row": null,
            "grid_template_areas": null,
            "grid_template_columns": null,
            "grid_template_rows": null,
            "height": null,
            "justify_content": null,
            "justify_items": null,
            "left": null,
            "margin": null,
            "max_height": null,
            "max_width": null,
            "min_height": null,
            "min_width": null,
            "object_fit": null,
            "object_position": null,
            "order": null,
            "overflow": null,
            "padding": null,
            "right": null,
            "top": null,
            "visibility": null,
            "width": null
          }
        },
        "e339fb524bf042dd997db392e2b23a9f": {
          "model_module": "@jupyter-widgets/controls",
          "model_name": "HTMLStyleModel",
          "model_module_version": "2.0.0",
          "state": {
            "_model_module": "@jupyter-widgets/controls",
            "_model_module_version": "2.0.0",
            "_model_name": "HTMLStyleModel",
            "_view_count": null,
            "_view_module": "@jupyter-widgets/base",
            "_view_module_version": "2.0.0",
            "_view_name": "StyleView",
            "background": null,
            "description_width": "",
            "font_size": null,
            "text_color": null
          }
        },
        "46cd3781199e463eae4d08c7c2c03f0e": {
          "model_module": "@jupyter-widgets/base",
          "model_name": "LayoutModel",
          "model_module_version": "2.0.0",
          "state": {
            "_model_module": "@jupyter-widgets/base",
            "_model_module_version": "2.0.0",
            "_model_name": "LayoutModel",
            "_view_count": null,
            "_view_module": "@jupyter-widgets/base",
            "_view_module_version": "2.0.0",
            "_view_name": "LayoutView",
            "align_content": null,
            "align_items": null,
            "align_self": null,
            "border_bottom": null,
            "border_left": null,
            "border_right": null,
            "border_top": null,
            "bottom": null,
            "display": null,
            "flex": null,
            "flex_flow": null,
            "grid_area": null,
            "grid_auto_columns": null,
            "grid_auto_flow": null,
            "grid_auto_rows": null,
            "grid_column": null,
            "grid_gap": null,
            "grid_row": null,
            "grid_template_areas": null,
            "grid_template_columns": null,
            "grid_template_rows": null,
            "height": null,
            "justify_content": null,
            "justify_items": null,
            "left": null,
            "margin": null,
            "max_height": null,
            "max_width": null,
            "min_height": null,
            "min_width": null,
            "object_fit": null,
            "object_position": null,
            "order": null,
            "overflow": null,
            "padding": null,
            "right": null,
            "top": null,
            "visibility": null,
            "width": null
          }
        },
        "e9cf2b015b564324ac8912849bba8f15": {
          "model_module": "@jupyter-widgets/controls",
          "model_name": "ProgressStyleModel",
          "model_module_version": "2.0.0",
          "state": {
            "_model_module": "@jupyter-widgets/controls",
            "_model_module_version": "2.0.0",
            "_model_name": "ProgressStyleModel",
            "_view_count": null,
            "_view_module": "@jupyter-widgets/base",
            "_view_module_version": "2.0.0",
            "_view_name": "StyleView",
            "bar_color": null,
            "description_width": ""
          }
        },
        "27c2c3a5275d4a17a266ee0b2bb51a21": {
          "model_module": "@jupyter-widgets/base",
          "model_name": "LayoutModel",
          "model_module_version": "2.0.0",
          "state": {
            "_model_module": "@jupyter-widgets/base",
            "_model_module_version": "2.0.0",
            "_model_name": "LayoutModel",
            "_view_count": null,
            "_view_module": "@jupyter-widgets/base",
            "_view_module_version": "2.0.0",
            "_view_name": "LayoutView",
            "align_content": null,
            "align_items": null,
            "align_self": null,
            "border_bottom": null,
            "border_left": null,
            "border_right": null,
            "border_top": null,
            "bottom": null,
            "display": null,
            "flex": null,
            "flex_flow": null,
            "grid_area": null,
            "grid_auto_columns": null,
            "grid_auto_flow": null,
            "grid_auto_rows": null,
            "grid_column": null,
            "grid_gap": null,
            "grid_row": null,
            "grid_template_areas": null,
            "grid_template_columns": null,
            "grid_template_rows": null,
            "height": null,
            "justify_content": null,
            "justify_items": null,
            "left": null,
            "margin": null,
            "max_height": null,
            "max_width": null,
            "min_height": null,
            "min_width": null,
            "object_fit": null,
            "object_position": null,
            "order": null,
            "overflow": null,
            "padding": null,
            "right": null,
            "top": null,
            "visibility": null,
            "width": null
          }
        },
        "848f02cfb4f746b397326446b5b42d93": {
          "model_module": "@jupyter-widgets/controls",
          "model_name": "HTMLStyleModel",
          "model_module_version": "2.0.0",
          "state": {
            "_model_module": "@jupyter-widgets/controls",
            "_model_module_version": "2.0.0",
            "_model_name": "HTMLStyleModel",
            "_view_count": null,
            "_view_module": "@jupyter-widgets/base",
            "_view_module_version": "2.0.0",
            "_view_name": "StyleView",
            "background": null,
            "description_width": "",
            "font_size": null,
            "text_color": null
          }
        },
        "b03a9aed6b524a27b53bb72b51723905": {
          "model_module": "@jupyter-widgets/controls",
          "model_name": "HBoxModel",
          "model_module_version": "2.0.0",
          "state": {
            "_dom_classes": [],
            "_model_module": "@jupyter-widgets/controls",
            "_model_module_version": "2.0.0",
            "_model_name": "HBoxModel",
            "_view_count": null,
            "_view_module": "@jupyter-widgets/controls",
            "_view_module_version": "2.0.0",
            "_view_name": "HBoxView",
            "box_style": "",
            "children": [
              "IPY_MODEL_c281ea51fa5d403e82fa7c0740e78204",
              "IPY_MODEL_8ff8912f519240899803e56e1191a6dd",
              "IPY_MODEL_0a77b5e9a61f495b92c8a867b090bf4e"
            ],
            "layout": "IPY_MODEL_f3859a00289f47ae9ce14237d27c770f",
            "tabbable": null,
            "tooltip": null
          }
        },
        "c281ea51fa5d403e82fa7c0740e78204": {
          "model_module": "@jupyter-widgets/controls",
          "model_name": "HTMLModel",
          "model_module_version": "2.0.0",
          "state": {
            "_dom_classes": [],
            "_model_module": "@jupyter-widgets/controls",
            "_model_module_version": "2.0.0",
            "_model_name": "HTMLModel",
            "_view_count": null,
            "_view_module": "@jupyter-widgets/controls",
            "_view_module_version": "2.0.0",
            "_view_name": "HTMLView",
            "description": "",
            "description_allow_html": false,
            "layout": "IPY_MODEL_e9adf5672b324baba6eaa7c6fa8363f8",
            "placeholder": "​",
            "style": "IPY_MODEL_84f0647e462d43fe99ae936f38e415fe",
            "tabbable": null,
            "tooltip": null,
            "value": "Depth=4, working on node 11: 100%"
          }
        },
        "8ff8912f519240899803e56e1191a6dd": {
          "model_module": "@jupyter-widgets/controls",
          "model_name": "FloatProgressModel",
          "model_module_version": "2.0.0",
          "state": {
            "_dom_classes": [],
            "_model_module": "@jupyter-widgets/controls",
            "_model_module_version": "2.0.0",
            "_model_name": "FloatProgressModel",
            "_view_count": null,
            "_view_module": "@jupyter-widgets/controls",
            "_view_module_version": "2.0.0",
            "_view_name": "ProgressView",
            "bar_style": "success",
            "description": "",
            "description_allow_html": false,
            "layout": "IPY_MODEL_3fa4b4b2aad34f19a57bd2d1c52e6d67",
            "max": 12,
            "min": 0,
            "orientation": "horizontal",
            "style": "IPY_MODEL_2eccffc229ef4097a5575b7a4a5772ad",
            "tabbable": null,
            "tooltip": null,
            "value": 12
          }
        },
        "0a77b5e9a61f495b92c8a867b090bf4e": {
          "model_module": "@jupyter-widgets/controls",
          "model_name": "HTMLModel",
          "model_module_version": "2.0.0",
          "state": {
            "_dom_classes": [],
            "_model_module": "@jupyter-widgets/controls",
            "_model_module_version": "2.0.0",
            "_model_name": "HTMLModel",
            "_view_count": null,
            "_view_module": "@jupyter-widgets/controls",
            "_view_module_version": "2.0.0",
            "_view_name": "HTMLView",
            "description": "",
            "description_allow_html": false,
            "layout": "IPY_MODEL_034ed9f8076844cd8e7b80b4077d93fe",
            "placeholder": "​",
            "style": "IPY_MODEL_f3f13ae819d546ada4e7084872327539",
            "tabbable": null,
            "tooltip": null,
            "value": " 12/12 [00:00&lt;00:00, 1307.72it/s]"
          }
        },
        "f3859a00289f47ae9ce14237d27c770f": {
          "model_module": "@jupyter-widgets/base",
          "model_name": "LayoutModel",
          "model_module_version": "2.0.0",
          "state": {
            "_model_module": "@jupyter-widgets/base",
            "_model_module_version": "2.0.0",
            "_model_name": "LayoutModel",
            "_view_count": null,
            "_view_module": "@jupyter-widgets/base",
            "_view_module_version": "2.0.0",
            "_view_name": "LayoutView",
            "align_content": null,
            "align_items": null,
            "align_self": null,
            "border_bottom": null,
            "border_left": null,
            "border_right": null,
            "border_top": null,
            "bottom": null,
            "display": null,
            "flex": null,
            "flex_flow": null,
            "grid_area": null,
            "grid_auto_columns": null,
            "grid_auto_flow": null,
            "grid_auto_rows": null,
            "grid_column": null,
            "grid_gap": null,
            "grid_row": null,
            "grid_template_areas": null,
            "grid_template_columns": null,
            "grid_template_rows": null,
            "height": null,
            "justify_content": null,
            "justify_items": null,
            "left": null,
            "margin": null,
            "max_height": null,
            "max_width": null,
            "min_height": null,
            "min_width": null,
            "object_fit": null,
            "object_position": null,
            "order": null,
            "overflow": null,
            "padding": null,
            "right": null,
            "top": null,
            "visibility": null,
            "width": null
          }
        },
        "e9adf5672b324baba6eaa7c6fa8363f8": {
          "model_module": "@jupyter-widgets/base",
          "model_name": "LayoutModel",
          "model_module_version": "2.0.0",
          "state": {
            "_model_module": "@jupyter-widgets/base",
            "_model_module_version": "2.0.0",
            "_model_name": "LayoutModel",
            "_view_count": null,
            "_view_module": "@jupyter-widgets/base",
            "_view_module_version": "2.0.0",
            "_view_name": "LayoutView",
            "align_content": null,
            "align_items": null,
            "align_self": null,
            "border_bottom": null,
            "border_left": null,
            "border_right": null,
            "border_top": null,
            "bottom": null,
            "display": null,
            "flex": null,
            "flex_flow": null,
            "grid_area": null,
            "grid_auto_columns": null,
            "grid_auto_flow": null,
            "grid_auto_rows": null,
            "grid_column": null,
            "grid_gap": null,
            "grid_row": null,
            "grid_template_areas": null,
            "grid_template_columns": null,
            "grid_template_rows": null,
            "height": null,
            "justify_content": null,
            "justify_items": null,
            "left": null,
            "margin": null,
            "max_height": null,
            "max_width": null,
            "min_height": null,
            "min_width": null,
            "object_fit": null,
            "object_position": null,
            "order": null,
            "overflow": null,
            "padding": null,
            "right": null,
            "top": null,
            "visibility": null,
            "width": null
          }
        },
        "84f0647e462d43fe99ae936f38e415fe": {
          "model_module": "@jupyter-widgets/controls",
          "model_name": "HTMLStyleModel",
          "model_module_version": "2.0.0",
          "state": {
            "_model_module": "@jupyter-widgets/controls",
            "_model_module_version": "2.0.0",
            "_model_name": "HTMLStyleModel",
            "_view_count": null,
            "_view_module": "@jupyter-widgets/base",
            "_view_module_version": "2.0.0",
            "_view_name": "StyleView",
            "background": null,
            "description_width": "",
            "font_size": null,
            "text_color": null
          }
        },
        "3fa4b4b2aad34f19a57bd2d1c52e6d67": {
          "model_module": "@jupyter-widgets/base",
          "model_name": "LayoutModel",
          "model_module_version": "2.0.0",
          "state": {
            "_model_module": "@jupyter-widgets/base",
            "_model_module_version": "2.0.0",
            "_model_name": "LayoutModel",
            "_view_count": null,
            "_view_module": "@jupyter-widgets/base",
            "_view_module_version": "2.0.0",
            "_view_name": "LayoutView",
            "align_content": null,
            "align_items": null,
            "align_self": null,
            "border_bottom": null,
            "border_left": null,
            "border_right": null,
            "border_top": null,
            "bottom": null,
            "display": null,
            "flex": null,
            "flex_flow": null,
            "grid_area": null,
            "grid_auto_columns": null,
            "grid_auto_flow": null,
            "grid_auto_rows": null,
            "grid_column": null,
            "grid_gap": null,
            "grid_row": null,
            "grid_template_areas": null,
            "grid_template_columns": null,
            "grid_template_rows": null,
            "height": null,
            "justify_content": null,
            "justify_items": null,
            "left": null,
            "margin": null,
            "max_height": null,
            "max_width": null,
            "min_height": null,
            "min_width": null,
            "object_fit": null,
            "object_position": null,
            "order": null,
            "overflow": null,
            "padding": null,
            "right": null,
            "top": null,
            "visibility": null,
            "width": null
          }
        },
        "2eccffc229ef4097a5575b7a4a5772ad": {
          "model_module": "@jupyter-widgets/controls",
          "model_name": "ProgressStyleModel",
          "model_module_version": "2.0.0",
          "state": {
            "_model_module": "@jupyter-widgets/controls",
            "_model_module_version": "2.0.0",
            "_model_name": "ProgressStyleModel",
            "_view_count": null,
            "_view_module": "@jupyter-widgets/base",
            "_view_module_version": "2.0.0",
            "_view_name": "StyleView",
            "bar_color": null,
            "description_width": ""
          }
        },
        "034ed9f8076844cd8e7b80b4077d93fe": {
          "model_module": "@jupyter-widgets/base",
          "model_name": "LayoutModel",
          "model_module_version": "2.0.0",
          "state": {
            "_model_module": "@jupyter-widgets/base",
            "_model_module_version": "2.0.0",
            "_model_name": "LayoutModel",
            "_view_count": null,
            "_view_module": "@jupyter-widgets/base",
            "_view_module_version": "2.0.0",
            "_view_name": "LayoutView",
            "align_content": null,
            "align_items": null,
            "align_self": null,
            "border_bottom": null,
            "border_left": null,
            "border_right": null,
            "border_top": null,
            "bottom": null,
            "display": null,
            "flex": null,
            "flex_flow": null,
            "grid_area": null,
            "grid_auto_columns": null,
            "grid_auto_flow": null,
            "grid_auto_rows": null,
            "grid_column": null,
            "grid_gap": null,
            "grid_row": null,
            "grid_template_areas": null,
            "grid_template_columns": null,
            "grid_template_rows": null,
            "height": null,
            "justify_content": null,
            "justify_items": null,
            "left": null,
            "margin": null,
            "max_height": null,
            "max_width": null,
            "min_height": null,
            "min_width": null,
            "object_fit": null,
            "object_position": null,
            "order": null,
            "overflow": null,
            "padding": null,
            "right": null,
            "top": null,
            "visibility": null,
            "width": null
          }
        },
        "f3f13ae819d546ada4e7084872327539": {
          "model_module": "@jupyter-widgets/controls",
          "model_name": "HTMLStyleModel",
          "model_module_version": "2.0.0",
          "state": {
            "_model_module": "@jupyter-widgets/controls",
            "_model_module_version": "2.0.0",
            "_model_name": "HTMLStyleModel",
            "_view_count": null,
            "_view_module": "@jupyter-widgets/base",
            "_view_module_version": "2.0.0",
            "_view_name": "StyleView",
            "background": null,
            "description_width": "",
            "font_size": null,
            "text_color": null
          }
        },
        "c980e35c34684a2ea6d86f86eed1c515": {
          "model_module": "@jupyter-widgets/controls",
          "model_name": "HBoxModel",
          "model_module_version": "2.0.0",
          "state": {
            "_dom_classes": [],
            "_model_module": "@jupyter-widgets/controls",
            "_model_module_version": "2.0.0",
            "_model_name": "HBoxModel",
            "_view_count": null,
            "_view_module": "@jupyter-widgets/controls",
            "_view_module_version": "2.0.0",
            "_view_name": "HBoxView",
            "box_style": "",
            "children": [
              "IPY_MODEL_a140db63950b4c30bb45fde273e437d4",
              "IPY_MODEL_74efabc63f8a4151b4b4b429773a93b8",
              "IPY_MODEL_c78c6d2b350a46218ddd4bcfdbf76b86"
            ],
            "layout": "IPY_MODEL_bc3235459d1f4319aa49caece811de15",
            "tabbable": null,
            "tooltip": null
          }
        },
        "a140db63950b4c30bb45fde273e437d4": {
          "model_module": "@jupyter-widgets/controls",
          "model_name": "HTMLModel",
          "model_module_version": "2.0.0",
          "state": {
            "_dom_classes": [],
            "_model_module": "@jupyter-widgets/controls",
            "_model_module_version": "2.0.0",
            "_model_name": "HTMLModel",
            "_view_count": null,
            "_view_module": "@jupyter-widgets/controls",
            "_view_module_version": "2.0.0",
            "_view_name": "HTMLView",
            "description": "",
            "description_allow_html": false,
            "layout": "IPY_MODEL_1b76f7e7198644a2a336bf8432899afb",
            "placeholder": "​",
            "style": "IPY_MODEL_bd74223941f34f459cb6645dd3c21270",
            "tabbable": null,
            "tooltip": null,
            "value": "Depth=3, working on node 11: 100%"
          }
        },
        "74efabc63f8a4151b4b4b429773a93b8": {
          "model_module": "@jupyter-widgets/controls",
          "model_name": "FloatProgressModel",
          "model_module_version": "2.0.0",
          "state": {
            "_dom_classes": [],
            "_model_module": "@jupyter-widgets/controls",
            "_model_module_version": "2.0.0",
            "_model_name": "FloatProgressModel",
            "_view_count": null,
            "_view_module": "@jupyter-widgets/controls",
            "_view_module_version": "2.0.0",
            "_view_name": "ProgressView",
            "bar_style": "success",
            "description": "",
            "description_allow_html": false,
            "layout": "IPY_MODEL_6cebdad624eb46d78c0814bb2d226da6",
            "max": 12,
            "min": 0,
            "orientation": "horizontal",
            "style": "IPY_MODEL_beee91f43df9433881703501425c1ce4",
            "tabbable": null,
            "tooltip": null,
            "value": 12
          }
        },
        "c78c6d2b350a46218ddd4bcfdbf76b86": {
          "model_module": "@jupyter-widgets/controls",
          "model_name": "HTMLModel",
          "model_module_version": "2.0.0",
          "state": {
            "_dom_classes": [],
            "_model_module": "@jupyter-widgets/controls",
            "_model_module_version": "2.0.0",
            "_model_name": "HTMLModel",
            "_view_count": null,
            "_view_module": "@jupyter-widgets/controls",
            "_view_module_version": "2.0.0",
            "_view_name": "HTMLView",
            "description": "",
            "description_allow_html": false,
            "layout": "IPY_MODEL_35cdfa9d51cb4bfd8132d18ec0134509",
            "placeholder": "​",
            "style": "IPY_MODEL_db98705247674cb6b0d22e50f1ba3b35",
            "tabbable": null,
            "tooltip": null,
            "value": " 12/12 [00:00&lt;00:00, 1233.59it/s]"
          }
        },
        "bc3235459d1f4319aa49caece811de15": {
          "model_module": "@jupyter-widgets/base",
          "model_name": "LayoutModel",
          "model_module_version": "2.0.0",
          "state": {
            "_model_module": "@jupyter-widgets/base",
            "_model_module_version": "2.0.0",
            "_model_name": "LayoutModel",
            "_view_count": null,
            "_view_module": "@jupyter-widgets/base",
            "_view_module_version": "2.0.0",
            "_view_name": "LayoutView",
            "align_content": null,
            "align_items": null,
            "align_self": null,
            "border_bottom": null,
            "border_left": null,
            "border_right": null,
            "border_top": null,
            "bottom": null,
            "display": null,
            "flex": null,
            "flex_flow": null,
            "grid_area": null,
            "grid_auto_columns": null,
            "grid_auto_flow": null,
            "grid_auto_rows": null,
            "grid_column": null,
            "grid_gap": null,
            "grid_row": null,
            "grid_template_areas": null,
            "grid_template_columns": null,
            "grid_template_rows": null,
            "height": null,
            "justify_content": null,
            "justify_items": null,
            "left": null,
            "margin": null,
            "max_height": null,
            "max_width": null,
            "min_height": null,
            "min_width": null,
            "object_fit": null,
            "object_position": null,
            "order": null,
            "overflow": null,
            "padding": null,
            "right": null,
            "top": null,
            "visibility": null,
            "width": null
          }
        },
        "1b76f7e7198644a2a336bf8432899afb": {
          "model_module": "@jupyter-widgets/base",
          "model_name": "LayoutModel",
          "model_module_version": "2.0.0",
          "state": {
            "_model_module": "@jupyter-widgets/base",
            "_model_module_version": "2.0.0",
            "_model_name": "LayoutModel",
            "_view_count": null,
            "_view_module": "@jupyter-widgets/base",
            "_view_module_version": "2.0.0",
            "_view_name": "LayoutView",
            "align_content": null,
            "align_items": null,
            "align_self": null,
            "border_bottom": null,
            "border_left": null,
            "border_right": null,
            "border_top": null,
            "bottom": null,
            "display": null,
            "flex": null,
            "flex_flow": null,
            "grid_area": null,
            "grid_auto_columns": null,
            "grid_auto_flow": null,
            "grid_auto_rows": null,
            "grid_column": null,
            "grid_gap": null,
            "grid_row": null,
            "grid_template_areas": null,
            "grid_template_columns": null,
            "grid_template_rows": null,
            "height": null,
            "justify_content": null,
            "justify_items": null,
            "left": null,
            "margin": null,
            "max_height": null,
            "max_width": null,
            "min_height": null,
            "min_width": null,
            "object_fit": null,
            "object_position": null,
            "order": null,
            "overflow": null,
            "padding": null,
            "right": null,
            "top": null,
            "visibility": null,
            "width": null
          }
        },
        "bd74223941f34f459cb6645dd3c21270": {
          "model_module": "@jupyter-widgets/controls",
          "model_name": "HTMLStyleModel",
          "model_module_version": "2.0.0",
          "state": {
            "_model_module": "@jupyter-widgets/controls",
            "_model_module_version": "2.0.0",
            "_model_name": "HTMLStyleModel",
            "_view_count": null,
            "_view_module": "@jupyter-widgets/base",
            "_view_module_version": "2.0.0",
            "_view_name": "StyleView",
            "background": null,
            "description_width": "",
            "font_size": null,
            "text_color": null
          }
        },
        "6cebdad624eb46d78c0814bb2d226da6": {
          "model_module": "@jupyter-widgets/base",
          "model_name": "LayoutModel",
          "model_module_version": "2.0.0",
          "state": {
            "_model_module": "@jupyter-widgets/base",
            "_model_module_version": "2.0.0",
            "_model_name": "LayoutModel",
            "_view_count": null,
            "_view_module": "@jupyter-widgets/base",
            "_view_module_version": "2.0.0",
            "_view_name": "LayoutView",
            "align_content": null,
            "align_items": null,
            "align_self": null,
            "border_bottom": null,
            "border_left": null,
            "border_right": null,
            "border_top": null,
            "bottom": null,
            "display": null,
            "flex": null,
            "flex_flow": null,
            "grid_area": null,
            "grid_auto_columns": null,
            "grid_auto_flow": null,
            "grid_auto_rows": null,
            "grid_column": null,
            "grid_gap": null,
            "grid_row": null,
            "grid_template_areas": null,
            "grid_template_columns": null,
            "grid_template_rows": null,
            "height": null,
            "justify_content": null,
            "justify_items": null,
            "left": null,
            "margin": null,
            "max_height": null,
            "max_width": null,
            "min_height": null,
            "min_width": null,
            "object_fit": null,
            "object_position": null,
            "order": null,
            "overflow": null,
            "padding": null,
            "right": null,
            "top": null,
            "visibility": null,
            "width": null
          }
        },
        "beee91f43df9433881703501425c1ce4": {
          "model_module": "@jupyter-widgets/controls",
          "model_name": "ProgressStyleModel",
          "model_module_version": "2.0.0",
          "state": {
            "_model_module": "@jupyter-widgets/controls",
            "_model_module_version": "2.0.0",
            "_model_name": "ProgressStyleModel",
            "_view_count": null,
            "_view_module": "@jupyter-widgets/base",
            "_view_module_version": "2.0.0",
            "_view_name": "StyleView",
            "bar_color": null,
            "description_width": ""
          }
        },
        "35cdfa9d51cb4bfd8132d18ec0134509": {
          "model_module": "@jupyter-widgets/base",
          "model_name": "LayoutModel",
          "model_module_version": "2.0.0",
          "state": {
            "_model_module": "@jupyter-widgets/base",
            "_model_module_version": "2.0.0",
            "_model_name": "LayoutModel",
            "_view_count": null,
            "_view_module": "@jupyter-widgets/base",
            "_view_module_version": "2.0.0",
            "_view_name": "LayoutView",
            "align_content": null,
            "align_items": null,
            "align_self": null,
            "border_bottom": null,
            "border_left": null,
            "border_right": null,
            "border_top": null,
            "bottom": null,
            "display": null,
            "flex": null,
            "flex_flow": null,
            "grid_area": null,
            "grid_auto_columns": null,
            "grid_auto_flow": null,
            "grid_auto_rows": null,
            "grid_column": null,
            "grid_gap": null,
            "grid_row": null,
            "grid_template_areas": null,
            "grid_template_columns": null,
            "grid_template_rows": null,
            "height": null,
            "justify_content": null,
            "justify_items": null,
            "left": null,
            "margin": null,
            "max_height": null,
            "max_width": null,
            "min_height": null,
            "min_width": null,
            "object_fit": null,
            "object_position": null,
            "order": null,
            "overflow": null,
            "padding": null,
            "right": null,
            "top": null,
            "visibility": null,
            "width": null
          }
        },
        "db98705247674cb6b0d22e50f1ba3b35": {
          "model_module": "@jupyter-widgets/controls",
          "model_name": "HTMLStyleModel",
          "model_module_version": "2.0.0",
          "state": {
            "_model_module": "@jupyter-widgets/controls",
            "_model_module_version": "2.0.0",
            "_model_name": "HTMLStyleModel",
            "_view_count": null,
            "_view_module": "@jupyter-widgets/base",
            "_view_module_version": "2.0.0",
            "_view_name": "StyleView",
            "background": null,
            "description_width": "",
            "font_size": null,
            "text_color": null
          }
        }
      }
    }
  },
  "cells": [
    {
      "cell_type": "markdown",
      "metadata": {
        "id": "view-in-github",
        "colab_type": "text"
      },
      "source": [
        "<a href=\"https://colab.research.google.com/github/EmaNardi/Causality/blob/main/Midterm_2_5_Causality_Assignment_Nardi.ipynb\" target=\"_parent\"><img src=\"https://colab.research.google.com/assets/colab-badge.svg\" alt=\"Open In Colab\"/></a>"
      ]
    },
    {
      "cell_type": "markdown",
      "source": [
        "# ISPR Assignment N.5\n",
        "\n",
        "\n",
        "\n",
        "In this assignment, you will focus on recovering a causal graph from observational data and estimating the causal effect of a treatment variable on an outcome variable over a synthetic dataset.\n",
        "\n",
        "`LUCAS0` is a simulated dataset representing the interaction between smoking, lung cancer, and other related variables. The [website](https://www.causality.inf.ethz.ch/data/LUCAS.html) of the dataset also reports the ground-truth graph and the ground-truth values for the conditional probabilities, which you can use to verify your results.\n",
        "\n",
        "The assignment requires you to perform the following causal analysis:\n",
        "\n",
        "1. Perform **structure learning** by applying the `PC` algorithm to the provided dataset and recover the CPDAG. The suggestion is to use the implementation of the `PC` algorithm from the [`dowhy`](https://www.pywhy.org/dowhy/v0.12/) library.\n",
        "2. If there are unoriented edges, suppose to have expert knowledge and reconstruct the causal graphs by orienting them as in the **ground truth** graphs provided with the dataset.\n",
        "3. After fixing the structure, you need to **fit the parameters** of the network, for which you can use any of the existing libraries for probabilistic model such as `pgmpy`, `pomegranate`, `bnlearn`, `PyMC`, `Pyro`, `Stan`, or even implement yourself a representation of the Conditional Probability Tables.\n",
        "4. Let $X$ be the treatment variable and $Y$ the outcome. Compute the **Average Treatment Effect** (ATE) of $X$ on $Y$ $$\\mathbb{E}[Y\\mid \\text{do}(X=1)]- \\mathbb{E}[Y\\mid \\text{do}(X=0)],$$ by finding a valid adjustment set $Z$. Detail why the adjustment set is valid to estimate the causal effect of $X$ on $Y$. For the `LUCAS0` dataset take $X=\\text{Lung Cancer}$ and $Y=\\text{Car Accident}$.\n",
        "5. Finally, compute the difference between the conditional probabilities $$\\mathbb{E}[Y\\mid X=1]- \\mathbb{E}[Y\\mid X=0],$$ and discuss the results against those from the ATE."
      ],
      "metadata": {
        "id": "VtmRcQok7_-q"
      }
    },
    {
      "cell_type": "markdown",
      "source": [
        "## Preliminaries\n",
        "\n",
        "Install the libraries `dowhy` and `pgmpy` to respectively perform structure learning and parameter fitting of the Causal Bayesian Network of the `LUCAS0` dataset."
      ],
      "metadata": {
        "id": "EGt1c7f6-yzo"
      }
    },
    {
      "cell_type": "markdown",
      "source": [
        "Seed everything for reproducibility purposes and download the dataset."
      ],
      "metadata": {
        "id": "_177i2bZUyo8"
      }
    },
    {
      "cell_type": "code",
      "source": [
        "import random\n",
        "import torch\n",
        "import numpy as np\n",
        "import pandas as pd\n",
        "\n",
        "def seed_everything(seed: int = 42):\n",
        "  random.seed(seed)\n",
        "  np.random.seed(seed)\n",
        "  torch.manual_seed(seed)\n",
        "  if torch.cuda.is_available():\n",
        "    torch.cuda.manual_seed_all(seed)\n",
        "\n",
        "  print(f\"All random number generators seeded with {seed}\")\n",
        "\n",
        "# Seed\n",
        "seed_everything()\n",
        "\n",
        "# Load Data\n",
        "url = \"http://www.causality.inf.ethz.ch/data/lucas0_train.csv\"\n",
        "data = pd.read_csv(url)\n",
        "\n",
        "# since casuallearn requires npy arrays\n",
        "data_np = data.to_numpy()\n",
        "attributes = list(data.columns)\n",
        "\n",
        "data.head()"
      ],
      "metadata": {
        "colab": {
          "base_uri": "https://localhost:8080/",
          "height": 223
        },
        "id": "za6NVIGFybXn",
        "outputId": "b1cd41b0-b408-4af5-9416-02d2d9266354"
      },
      "execution_count": null,
      "outputs": [
        {
          "output_type": "stream",
          "name": "stdout",
          "text": [
            "All random number generators seeded with 42\n"
          ]
        },
        {
          "output_type": "execute_result",
          "data": {
            "text/plain": [
              "   Smoking  Yellow_Fingers  Anxiety  Peer_Pressure  Genetics  \\\n",
              "0        0               0        1              0         0   \n",
              "1        0               1        0              0         0   \n",
              "2        1               1        1              0         1   \n",
              "3        0               0        0              1         0   \n",
              "4        1               1        1              0         0   \n",
              "\n",
              "   Attention_Disorder  Born_an_Even_Day  Car_Accident  Fatigue  Allergy  \\\n",
              "0                   1                 0             1        0        1   \n",
              "1                   0                 1             0        1        0   \n",
              "2                   1                 1             1        1        1   \n",
              "3                   0                 1             0        0        0   \n",
              "4                   1                 1             1        1        0   \n",
              "\n",
              "   Coughing  Lung_cancer  \n",
              "0         0            0  \n",
              "1         1            1  \n",
              "2         1            1  \n",
              "3         0            0  \n",
              "4         0            1  "
            ],
            "text/html": [
              "<div>\n",
              "<style scoped>\n",
              "    .dataframe tbody tr th:only-of-type {\n",
              "        vertical-align: middle;\n",
              "    }\n",
              "\n",
              "    .dataframe tbody tr th {\n",
              "        vertical-align: top;\n",
              "    }\n",
              "\n",
              "    .dataframe thead th {\n",
              "        text-align: right;\n",
              "    }\n",
              "</style>\n",
              "<table border=\"1\" class=\"dataframe\">\n",
              "  <thead>\n",
              "    <tr style=\"text-align: right;\">\n",
              "      <th></th>\n",
              "      <th>Smoking</th>\n",
              "      <th>Yellow_Fingers</th>\n",
              "      <th>Anxiety</th>\n",
              "      <th>Peer_Pressure</th>\n",
              "      <th>Genetics</th>\n",
              "      <th>Attention_Disorder</th>\n",
              "      <th>Born_an_Even_Day</th>\n",
              "      <th>Car_Accident</th>\n",
              "      <th>Fatigue</th>\n",
              "      <th>Allergy</th>\n",
              "      <th>Coughing</th>\n",
              "      <th>Lung_cancer</th>\n",
              "    </tr>\n",
              "  </thead>\n",
              "  <tbody>\n",
              "    <tr>\n",
              "      <th>0</th>\n",
              "      <td>0</td>\n",
              "      <td>0</td>\n",
              "      <td>1</td>\n",
              "      <td>0</td>\n",
              "      <td>0</td>\n",
              "      <td>1</td>\n",
              "      <td>0</td>\n",
              "      <td>1</td>\n",
              "      <td>0</td>\n",
              "      <td>1</td>\n",
              "      <td>0</td>\n",
              "      <td>0</td>\n",
              "    </tr>\n",
              "    <tr>\n",
              "      <th>1</th>\n",
              "      <td>0</td>\n",
              "      <td>1</td>\n",
              "      <td>0</td>\n",
              "      <td>0</td>\n",
              "      <td>0</td>\n",
              "      <td>0</td>\n",
              "      <td>1</td>\n",
              "      <td>0</td>\n",
              "      <td>1</td>\n",
              "      <td>0</td>\n",
              "      <td>1</td>\n",
              "      <td>1</td>\n",
              "    </tr>\n",
              "    <tr>\n",
              "      <th>2</th>\n",
              "      <td>1</td>\n",
              "      <td>1</td>\n",
              "      <td>1</td>\n",
              "      <td>0</td>\n",
              "      <td>1</td>\n",
              "      <td>1</td>\n",
              "      <td>1</td>\n",
              "      <td>1</td>\n",
              "      <td>1</td>\n",
              "      <td>1</td>\n",
              "      <td>1</td>\n",
              "      <td>1</td>\n",
              "    </tr>\n",
              "    <tr>\n",
              "      <th>3</th>\n",
              "      <td>0</td>\n",
              "      <td>0</td>\n",
              "      <td>0</td>\n",
              "      <td>1</td>\n",
              "      <td>0</td>\n",
              "      <td>0</td>\n",
              "      <td>1</td>\n",
              "      <td>0</td>\n",
              "      <td>0</td>\n",
              "      <td>0</td>\n",
              "      <td>0</td>\n",
              "      <td>0</td>\n",
              "    </tr>\n",
              "    <tr>\n",
              "      <th>4</th>\n",
              "      <td>1</td>\n",
              "      <td>1</td>\n",
              "      <td>1</td>\n",
              "      <td>0</td>\n",
              "      <td>0</td>\n",
              "      <td>1</td>\n",
              "      <td>1</td>\n",
              "      <td>1</td>\n",
              "      <td>1</td>\n",
              "      <td>0</td>\n",
              "      <td>0</td>\n",
              "      <td>1</td>\n",
              "    </tr>\n",
              "  </tbody>\n",
              "</table>\n",
              "</div>"
            ]
          },
          "metadata": {},
          "execution_count": 1
        }
      ]
    },
    {
      "cell_type": "markdown",
      "source": [
        "## Structure Learning\n",
        "\n",
        "Given the provided `LUCAS0` dataset retrieve the causal structure using the `PC` algorithm from the `dowhy` library. As the results of the algorithm strongly suggests on the ordering in which the adjustment sets are chosen, it is strongly recommended to fix the seed before the execution for reproducibility.\n",
        "\n",
        "After the run of the algorithm, discuss the presence of unoriented edges and then orient them by using the provided ground-truth graph."
      ],
      "metadata": {
        "id": "kQiMq9cuVV-p"
      }
    },
    {
      "cell_type": "code",
      "source": [
        "from causallearn.graph.Graph import Graph\n",
        "from causallearn.graph.Edge import Edge\n",
        "from causallearn.graph.Endpoint import Endpoint\n",
        "from causallearn.search.ConstraintBased.PC import pc\n",
        "from causallearn.utils.GraphUtils import GraphUtils\n",
        "import io\n",
        "from causallearn.utils.GraphUtils import GraphUtils\n",
        "import matplotlib.image as mpimg\n",
        "import matplotlib.pyplot as plt"
      ],
      "metadata": {
        "id": "CcubU7L3KYC0"
      },
      "execution_count": null,
      "outputs": []
    },
    {
      "cell_type": "markdown",
      "source": [
        "### Experimenting with graphs\n",
        "We start by trying out various combination of hyperparameters to see what kind of graphs we get\n",
        "we convert to pydot because that seems the most efficient way to plot the graph in casuallearn\n",
        "it is not very interesting to change the name of the nodes in the causal graph itself as they are named by the order of the npy array (which is also the order we immediatly find on the LUCAS website)\n",
        "\n",
        "We plot the graphs to look at the depending on the hyperparameters setting we get graphs that are more or less correct the selection is based on my knowledge, which in this specific instance was very close to the expert knowledge (which i will anyway obtain in the next step)"
      ],
      "metadata": {
        "id": "o3v24h9AYE8P"
      }
    },
    {
      "cell_type": "code",
      "source": [
        "#lists of hyperparameters to use in testing\n",
        "rule=0\n",
        "test=\"fisherz\"\n",
        "alphas=[0.001, 0.005, 0.01, 0.05, 0.1, 0.5]\n",
        "tests=[\"fisherz\",\"chisq\",\"gsq\"]\n",
        "\n",
        "# alphas are the more interesting, we interacting with the other hyperparameters\n",
        "# one at a time but always check multiple alphas for all of them\n",
        "for alph in alphas:\n",
        "\n",
        "# other hyperparameter values have been commented\n",
        "\n",
        "  #for rule in range(0,3):\n",
        "  #for test in tests:\n",
        "    # this function builds the causal graph based on the data and our hyperparameters\n",
        "    cg = pc(data_np, alpha=alph,indep_test=test, uc_rule=rule, verbose=False)\n",
        "\n",
        "    # we convert to pydot because that seems the most efficient way to plot the\n",
        "    # graph in casuallearn\n",
        "    pyd = GraphUtils.to_pydot(cg.G)\n",
        "\n",
        "    # we change the names of the nodes so that the graph is readable\n",
        "    for node in pyd.get_nodes():\n",
        "        index = int(node.get_name())\n",
        "        node.set_label(attributes[index])\n",
        "\n",
        "    # we plot the graphs to look at them\n",
        "    tmp_png = pyd.create_png(f=\"png\")\n",
        "    fp = io.BytesIO(tmp_png)\n",
        "    img = mpimg.imread(fp, format='png')\n",
        "    print(\"alpha =\", alph, \", inep_test =\", test, \", uc_rule= \", rule)\n",
        "    plt.axis('off')\n",
        "    plt.imshow(img)\n",
        "    plt.show()\n"
      ],
      "metadata": {
        "colab": {
          "base_uri": "https://localhost:8080/",
          "referenced_widgets": [
            "1352658559f74238b9820a359cecd206",
            "bfbf982de15d48f490a48e11ccab7849",
            "810b3dfce23c437ea5a09001f6a39176",
            "35415de308be4b6c8061ecd1b32bd211",
            "420cc1d656a349a9985ce0cd82d53546",
            "c453de03d70d4efbaa0b8751b0c90a39",
            "fb3c493255c24f9298349568926bdac4",
            "750862b886224d0482015740f4888ab8",
            "95c6a2ce761248c29c8bb9c3925155d7",
            "7857a95882644b55a84dcc76efc11969",
            "62fd0420e1a54bf2bdf9cbd97e7e05c6",
            "2d9a5a07009e455f8055a5793d058ce2",
            "51f5efbb409d48f39322fed5c3d369c4",
            "e837b11f101242c7b0931a049a5c8e45",
            "4ea12946c4044918a18cc3bb66bf27a0",
            "07d8e553db6049c4a8aab1a071411e62",
            "c67f56bd86ac434385046465687d3956",
            "40cbe89f8844451ba7e387b69de195af",
            "31c8440ff55241358f3cf1288a6c41f4",
            "6f96509f3f084e02a1ca98164afecea5",
            "b2dbd88546b7456d9de823580ab32fe9",
            "a19341b46e7c470dac9e9699de9da1c5",
            "fa1ad3d5b1a145599c9919bf1e00b503",
            "58a742d6fd344abf8bcbe1a5f3800d08",
            "3f7c4131582442c483ed990588361c54",
            "f29686f6f15044bf90bb0ebdd04af0da",
            "a9358984d66c4203ac66911e4f87503f",
            "d855fad858994fccb6b9d48f8d36293d",
            "82414c6f08244c25ba3b428b709410e8",
            "5df8f672c14645eba03f33b0f34f8046",
            "79c539caeed34440beaac4b7e062f774",
            "f786228fc0264977900da4ad54832b68",
            "bbdc06b69e014f2bbf71fb03abc7712c",
            "9ce31e53909642e98aac3d86b9a1fb4c",
            "58598ec5f1164ef489097f18c6ec26c3",
            "e8eee1fb60bb4a5a8e2244c490999f1d",
            "6016ebfc21404a09a7af9b077f5ea2aa",
            "5facd39296c54235970ee92f6f2d422f",
            "b2af29fb755641de9b521cb642ab2468",
            "bdd20b0423864d5ab1b601a2c9719589",
            "508b1dedcec74da0ae248c61a56bb9e3",
            "259ad7abe1524c9db2c3e5a5d1a5baec",
            "a4a0663a4d6544f6b85f65bc5b940ce7",
            "7ad32728608d4717af0f44ad8f111bc6",
            "380e5c97a9994891a767e194bcf64259",
            "8c1cdac206264bfca635534baf22e72b",
            "0ccf18c515b64ca2b64a9caf36bc2886",
            "a851e281fd96493391268a7218e888c8",
            "afd3efeac4bf4462b90db92c12584ea6",
            "634aeacb93af45e984c02a21d5d14288",
            "e339fb524bf042dd997db392e2b23a9f",
            "46cd3781199e463eae4d08c7c2c03f0e",
            "e9cf2b015b564324ac8912849bba8f15",
            "27c2c3a5275d4a17a266ee0b2bb51a21",
            "848f02cfb4f746b397326446b5b42d93",
            "b03a9aed6b524a27b53bb72b51723905",
            "c281ea51fa5d403e82fa7c0740e78204",
            "8ff8912f519240899803e56e1191a6dd",
            "0a77b5e9a61f495b92c8a867b090bf4e",
            "f3859a00289f47ae9ce14237d27c770f",
            "e9adf5672b324baba6eaa7c6fa8363f8",
            "84f0647e462d43fe99ae936f38e415fe",
            "3fa4b4b2aad34f19a57bd2d1c52e6d67",
            "2eccffc229ef4097a5575b7a4a5772ad",
            "034ed9f8076844cd8e7b80b4077d93fe",
            "f3f13ae819d546ada4e7084872327539"
          ],
          "height": 1000
        },
        "collapsed": true,
        "id": "EPOhedWr1FhO",
        "outputId": "424f5735-5189-472c-ef97-200f4d703fba"
      },
      "execution_count": null,
      "outputs": [
        {
          "output_type": "display_data",
          "data": {
            "text/plain": [
              "  0%|          | 0/12 [00:00<?, ?it/s]"
            ],
            "application/vnd.jupyter.widget-view+json": {
              "version_major": 2,
              "version_minor": 0,
              "model_id": "1352658559f74238b9820a359cecd206"
            }
          },
          "metadata": {}
        },
        {
          "output_type": "stream",
          "name": "stdout",
          "text": [
            "alpha = 0.001 , inep_test = fisherz , uc_rule=  0\n"
          ]
        },
        {
          "output_type": "display_data",
          "data": {
            "text/plain": [
              "<Figure size 640x480 with 1 Axes>"
            ],
            "image/png": "[encoded data removed]"
          },
          "metadata": {}
        },
        {
          "output_type": "display_data",
          "data": {
            "text/plain": [
              "  0%|          | 0/12 [00:00<?, ?it/s]"
            ],
            "application/vnd.jupyter.widget-view+json": {
              "version_major": 2,
              "version_minor": 0,
              "model_id": "2d9a5a07009e455f8055a5793d058ce2"
            }
          },
          "metadata": {}
        },
        {
          "output_type": "stream",
          "name": "stdout",
          "text": [
            "alpha = 0.005 , inep_test = fisherz , uc_rule=  0\n"
          ]
        },
        {
          "output_type": "display_data",
          "data": {
            "text/plain": [
              "<Figure size 640x480 with 1 Axes>"
            ],
            "image/png": "[encoded data removed]"
          },
          "metadata": {}
        },
        {
          "output_type": "display_data",
          "data": {
            "text/plain": [
              "  0%|          | 0/12 [00:00<?, ?it/s]"
            ],
            "application/vnd.jupyter.widget-view+json": {
              "version_major": 2,
              "version_minor": 0,
              "model_id": "fa1ad3d5b1a145599c9919bf1e00b503"
            }
          },
          "metadata": {}
        },
        {
          "output_type": "stream",
          "name": "stdout",
          "text": [
            "alpha = 0.01 , inep_test = fisherz , uc_rule=  0\n"
          ]
        },
        {
          "output_type": "display_data",
          "data": {
            "text/plain": [
              "<Figure size 640x480 with 1 Axes>"
            ],
            "image/png": "[encoded data removed]"
          },
          "metadata": {}
        },
        {
          "output_type": "display_data",
          "data": {
            "text/plain": [
              "  0%|          | 0/12 [00:00<?, ?it/s]"
            ],
            "application/vnd.jupyter.widget-view+json": {
              "version_major": 2,
              "version_minor": 0,
              "model_id": "9ce31e53909642e98aac3d86b9a1fb4c"
            }
          },
          "metadata": {}
        },
        {
          "output_type": "stream",
          "name": "stdout",
          "text": [
            "alpha = 0.05 , inep_test = fisherz , uc_rule=  0\n"
          ]
        },
        {
          "output_type": "display_data",
          "data": {
            "text/plain": [
              "<Figure size 640x480 with 1 Axes>"
            ],
            "image/png": "[encoded data removed]"
          },
          "metadata": {}
        },
        {
          "output_type": "display_data",
          "data": {
            "text/plain": [
              "  0%|          | 0/12 [00:00<?, ?it/s]"
            ],
            "application/vnd.jupyter.widget-view+json": {
              "version_major": 2,
              "version_minor": 0,
              "model_id": "380e5c97a9994891a767e194bcf64259"
            }
          },
          "metadata": {}
        },
        {
          "output_type": "stream",
          "name": "stdout",
          "text": [
            "alpha = 0.1 , inep_test = fisherz , uc_rule=  0\n"
          ]
        },
        {
          "output_type": "display_data",
          "data": {
            "text/plain": [
              "<Figure size 640x480 with 1 Axes>"
            ],
            "image/png": "[encoded data removed]"
          },
          "metadata": {}
        },
        {
          "output_type": "display_data",
          "data": {
            "text/plain": [
              "  0%|          | 0/12 [00:00<?, ?it/s]"
            ],
            "application/vnd.jupyter.widget-view+json": {
              "version_major": 2,
              "version_minor": 0,
              "model_id": "b03a9aed6b524a27b53bb72b51723905"
            }
          },
          "metadata": {}
        },
        {
          "output_type": "stream",
          "name": "stdout",
          "text": [
            "alpha = 0.5 , inep_test = fisherz , uc_rule=  0\n"
          ]
        },
        {
          "output_type": "display_data",
          "data": {
            "text/plain": [
              "<Figure size 640x480 with 1 Axes>"
            ],
            "image/png": "[encoded data removed]"
          },
          "metadata": {}
        }
      ]
    },
    {
      "cell_type": "markdown",
      "source": [
        "### Best graph\n",
        "Given my preferred graph we pick its parameter settings.\n",
        "\n",
        "(an alpha of 0.1 actually generated the same graph)\n"
      ],
      "metadata": {
        "id": "_NN-PSjcYQ86"
      }
    },
    {
      "cell_type": "code",
      "source": [
        "# given my preferred graph we pick its parameter settings\n",
        "cg = pc(data_np, alpha=0.05, uc_rule=0, verbose=False)\n",
        "\n",
        "# this code is the same as the one in the previous cell\n",
        "pyd = GraphUtils.to_pydot(cg.G)\n",
        "for node in pyd.get_nodes():\n",
        "\n",
        "    index = int(node.get_name())\n",
        "    node.set_label(attributes[index])\n",
        "\n",
        "\n",
        "tmp_png = pyd.create_png(f=\"png\")\n",
        "fp = io.BytesIO(tmp_png)\n",
        "img = mpimg.imread(fp, format='png')\n",
        "plt.axis('off')\n",
        "plt.imshow(img)\n",
        "plt.show()\n"
      ],
      "metadata": {
        "colab": {
          "base_uri": "https://localhost:8080/",
          "referenced_widgets": [
            "c980e35c34684a2ea6d86f86eed1c515",
            "a140db63950b4c30bb45fde273e437d4",
            "74efabc63f8a4151b4b4b429773a93b8",
            "c78c6d2b350a46218ddd4bcfdbf76b86",
            "bc3235459d1f4319aa49caece811de15",
            "1b76f7e7198644a2a336bf8432899afb",
            "bd74223941f34f459cb6645dd3c21270",
            "6cebdad624eb46d78c0814bb2d226da6",
            "beee91f43df9433881703501425c1ce4",
            "35cdfa9d51cb4bfd8132d18ec0134509",
            "db98705247674cb6b0d22e50f1ba3b35"
          ],
          "height": 353
        },
        "collapsed": true,
        "id": "ncIyowhkKkkm",
        "outputId": "db4b884e-f409-4a96-9305-c8bffa188ceb"
      },
      "execution_count": null,
      "outputs": [
        {
          "output_type": "display_data",
          "data": {
            "text/plain": [
              "  0%|          | 0/12 [00:00<?, ?it/s]"
            ],
            "application/vnd.jupyter.widget-view+json": {
              "version_major": 2,
              "version_minor": 0,
              "model_id": "c980e35c34684a2ea6d86f86eed1c515"
            }
          },
          "metadata": {}
        },
        {
          "output_type": "display_data",
          "data": {
            "text/plain": [
              "<Figure size 640x480 with 1 Axes>"
            ],
            "image/png": "[encoded data removed]"
          },
          "metadata": {}
        }
      ]
    },
    {
      "cell_type": "markdown",
      "source": [
        "### Orient undirected edges\n",
        "\n",
        "We use the expert knowledge to orient the only unoriented edge\n",
        "we can see that the graph is now oriented\n"
      ],
      "metadata": {
        "id": "G5JCIa-3YcEm"
      }
    },
    {
      "cell_type": "code",
      "source": [
        "# we add a directed edge between genetics and attention disorder\n",
        "cg.G.add_directed_edge(cg.G.nodes [attributes.index(\"Genetics\")],cg.G.nodes[attributes.index(\"Attention_Disorder\")])\n",
        "\n",
        "\n",
        "# we use the same code as before to add labels and plot\n",
        "pyd = GraphUtils.to_pydot(cg.G)\n",
        "\n",
        "for node in pyd.get_nodes():\n",
        "    index = int(node.get_name())\n",
        "    node.set_label(attributes[index])\n",
        "tmp_png = pyd.create_png(f=\"png\")\n",
        "fp = io.BytesIO(tmp_png)\n",
        "img = mpimg.imread(fp, format='png')\n",
        "plt.axis('off')\n",
        "plt.imshow(img)\n",
        "plt.show()\n",
        "\n",
        "# we can see that the graph is now oriented\n"
      ],
      "metadata": {
        "colab": {
          "base_uri": "https://localhost:8080/",
          "height": 353
        },
        "collapsed": true,
        "id": "gX-gZuxsbk3_",
        "outputId": "70eea9ba-6522-4cce-9e93-4539d5bf7033"
      },
      "execution_count": null,
      "outputs": [
        {
          "output_type": "display_data",
          "data": {
            "text/plain": [
              "<Figure size 640x480 with 1 Axes>"
            ],
            "image/png": "[encoded data removed]"
          },
          "metadata": {}
        }
      ]
    },
    {
      "cell_type": "markdown",
      "source": [
        "## Parameter Fitting\n",
        "\n",
        "Given the structure of the Causal Bayesian Network, you need to fit the parameters from data. Recall that in a Bayesian Network the parameters are stored in the Conditional Probability Tables that determine the probability of each variable given its parents in the graph. The goal is then to fill this table. As before, you can validate your results with the ground truth reported in the `LUCAS0` website. However, your implementation should **clearly show** that you fitted the parameters from data."
      ],
      "metadata": {
        "id": "ukk6kTT-VaeB"
      }
    },
    {
      "cell_type": "code",
      "source": [
        "import pandas as pd\n",
        "from pgmpy.models import DiscreteBayesianNetwork\n",
        "import matplotlib.pyplot as plt\n",
        "import networkx as nx\n",
        "import pylab as plt"
      ],
      "metadata": {
        "id": "1Hyp5OlpnG5i",
        "collapsed": true
      },
      "execution_count": null,
      "outputs": []
    },
    {
      "cell_type": "markdown",
      "source": [
        "### pgmpy model\n",
        "I have not found a way to turn a causallearn graph (or a pydot) into an nx\n",
        "graph or a pgmpy network. I am confident there is a simple way to do that as this question seems to not been asked on the internet so far.\n",
        "\n",
        "A very large part of the effort put into this project was trying to find out\n",
        "what library is used as an intermediate language to move DAGs between\n",
        "the other ones and while nx seems the most likely candidate such unification has (probably) not happened yet.\n",
        "\n",
        "nx methods should be callable on pgmpy but that doesn't seem to be very\n",
        "consistent. We still managed to build a graph and plot it to check whether there has been some error in moving the graph by hand.\n",
        "\n",
        "born_an_even_day is not plotted because it has no edges but we did add it\n",
        "to the model explicitely so there is no need to double check using the plot"
      ],
      "metadata": {
        "id": "opKQYjrYbFH8"
      }
    },
    {
      "cell_type": "code",
      "source": [
        "# We manually copy all the edges from the previously discovered graph\n",
        "edges = [\n",
        "    ('Smoking', 'Lung_cancer'),\n",
        "    ('Peer_Pressure', 'Smoking'),\n",
        "    ('Smoking', 'Yellow_Fingers'),\n",
        "    ('Genetics', 'Lung_cancer'),\n",
        "    ('Genetics', 'Attention_Disorder'),\n",
        "    ('Attention_Disorder', 'Car_Accident'),\n",
        "    ('Lung_cancer', 'Coughing'),\n",
        "    ('Lung_cancer', 'Fatigue'),\n",
        "    ('Fatigue', 'Car_Accident'),\n",
        "    ('Anxiety', 'Smoking'),\n",
        "    ('Coughing', 'Fatigue'),\n",
        "    ('Allergy', 'Coughing')\n",
        "]\n",
        "\n",
        "# We turn our edge list into a model\n",
        "model = DiscreteBayesianNetwork (edges)\n",
        "model.add_node('Born_an_Even_Day')\n",
        "\n",
        "# We inspect the graph\n",
        "print(list(model.nodes()))\n",
        "print(list(model.edges()))\n",
        "\n",
        "# We plot the graph\n",
        "nx_graph = nx.DiGraph(model.edges())\n",
        "nx.draw(nx_graph, with_labels=True)\n",
        "plt.show()"
      ],
      "metadata": {
        "colab": {
          "base_uri": "https://localhost:8080/",
          "height": 571
        },
        "id": "R3fgAwpuSbJ3",
        "outputId": "82428835-952a-49ca-cda6-10efb4c0eaf2",
        "collapsed": true
      },
      "execution_count": null,
      "outputs": [
        {
          "output_type": "stream",
          "name": "stdout",
          "text": [
            "['Smoking', 'Lung_cancer', 'Peer_Pressure', 'Yellow_Fingers', 'Genetics', 'Attention_Disorder', 'Car_Accident', 'Coughing', 'Fatigue', 'Anxiety', 'Allergy', 'Born_an_Even_Day']\n",
            "[('Smoking', 'Lung_cancer'), ('Smoking', 'Yellow_Fingers'), ('Lung_cancer', 'Coughing'), ('Lung_cancer', 'Fatigue'), ('Peer_Pressure', 'Smoking'), ('Genetics', 'Lung_cancer'), ('Genetics', 'Attention_Disorder'), ('Attention_Disorder', 'Car_Accident'), ('Coughing', 'Fatigue'), ('Fatigue', 'Car_Accident'), ('Anxiety', 'Smoking'), ('Allergy', 'Coughing')]\n"
          ]
        },
        {
          "output_type": "display_data",
          "data": {
            "text/plain": [
              "<Figure size 640x480 with 1 Axes>"
            ],
            "image/png": "[encoded data removed]"
          },
          "metadata": {}
        }
      ]
    },
    {
      "cell_type": "markdown",
      "source": [
        "### Compute cdps"
      ],
      "metadata": {
        "id": "TU8e_fyebKRz"
      }
    },
    {
      "cell_type": "code",
      "source": [
        "#given the model pgmpy is pretty straightforward in its computation of the cpds\n",
        "model.fit(data)\n",
        "\n",
        "# we print the cdps to compare them with the ground truth.\n",
        "for cpd in model.get_cpds():\n",
        "    print(f\"CPD of {cpd.variable}:\")\n",
        "    print(cpd)\n"
      ],
      "metadata": {
        "colab": {
          "base_uri": "https://localhost:8080/"
        },
        "collapsed": true,
        "id": "UgWHle5i6MjB",
        "outputId": "6d6b18cc-040c-4384-a02f-8a96d30684d9"
      },
      "execution_count": null,
      "outputs": [
        {
          "output_type": "stream",
          "name": "stderr",
          "text": [
            "INFO:pgmpy: Datatype (N=numerical, C=Categorical Unordered, O=Categorical Ordered) inferred from data: \n",
            " {'Smoking': 'N', 'Yellow_Fingers': 'N', 'Anxiety': 'N', 'Peer_Pressure': 'N', 'Genetics': 'N', 'Attention_Disorder': 'N', 'Born_an_Even_Day': 'N', 'Car_Accident': 'N', 'Fatigue': 'N', 'Allergy': 'N', 'Coughing': 'N', 'Lung_cancer': 'N'}\n"
          ]
        },
        {
          "output_type": "stream",
          "name": "stdout",
          "text": [
            "CPD of Smoking:\n",
            "+---------------+-------------------+--------------------+---------------------+---------------------+\n",
            "| Anxiety       | Anxiety(0)        | Anxiety(0)         | Anxiety(1)          | Anxiety(1)          |\n",
            "+---------------+-------------------+--------------------+---------------------+---------------------+\n",
            "| Peer_Pressure | Peer_Pressure(0)  | Peer_Pressure(1)   | Peer_Pressure(0)    | Peer_Pressure(1)    |\n",
            "+---------------+-------------------+--------------------+---------------------+---------------------+\n",
            "| Smoking(0)    | 0.569672131147541 | 0.2868525896414343 | 0.13148371531966224 | 0.08333333333333333 |\n",
            "+---------------+-------------------+--------------------+---------------------+---------------------+\n",
            "| Smoking(1)    | 0.430327868852459 | 0.7131474103585658 | 0.8685162846803377  | 0.9166666666666666  |\n",
            "+---------------+-------------------+--------------------+---------------------+---------------------+\n",
            "CPD of Lung_cancer:\n",
            "+----------------+--------------------+---------------------+---------------------+-------------+\n",
            "| Genetics       | Genetics(0)        | Genetics(0)         | Genetics(1)         | Genetics(1) |\n",
            "+----------------+--------------------+---------------------+---------------------+-------------+\n",
            "| Smoking        | Smoking(0)         | Smoking(1)          | Smoking(0)          | Smoking(1)  |\n",
            "+----------------+--------------------+---------------------+---------------------+-------------+\n",
            "| Lung_cancer(0) | 0.7482517482517482 | 0.17724458204334365 | 0.10606060606060606 | 0.0         |\n",
            "+----------------+--------------------+---------------------+---------------------+-------------+\n",
            "| Lung_cancer(1) | 0.2517482517482518 | 0.8227554179566563  | 0.8939393939393939  | 1.0         |\n",
            "+----------------+--------------------+---------------------+---------------------+-------------+\n",
            "CPD of Peer_Pressure:\n",
            "+------------------+--------+\n",
            "| Peer_Pressure(0) | 0.6585 |\n",
            "+------------------+--------+\n",
            "| Peer_Pressure(1) | 0.3415 |\n",
            "+------------------+--------+\n",
            "CPD of Yellow_Fingers:\n",
            "+-------------------+---------------------+--------------------+\n",
            "| Smoking           | Smoking(0)          | Smoking(1)         |\n",
            "+-------------------+---------------------+--------------------+\n",
            "| Yellow_Fingers(0) | 0.7757575757575758  | 0.0345514950166113 |\n",
            "+-------------------+---------------------+--------------------+\n",
            "| Yellow_Fingers(1) | 0.22424242424242424 | 0.9654485049833887 |\n",
            "+-------------------+---------------------+--------------------+\n",
            "CPD of Genetics:\n",
            "+-------------+--------+\n",
            "| Genetics(0) | 0.8605 |\n",
            "+-------------+--------+\n",
            "| Genetics(1) | 0.1395 |\n",
            "+-------------+--------+\n",
            "CPD of Attention_Disorder:\n",
            "+-----------------------+---------------------+--------------------+\n",
            "| Genetics              | Genetics(0)         | Genetics(1)        |\n",
            "+-----------------------+---------------------+--------------------+\n",
            "| Attention_Disorder(0) | 0.7280650784427658  | 0.3655913978494624 |\n",
            "+-----------------------+---------------------+--------------------+\n",
            "| Attention_Disorder(1) | 0.27193492155723414 | 0.6344086021505376 |\n",
            "+-----------------------+---------------------+--------------------+\n",
            "CPD of Car_Accident:\n",
            "+--------------------+-----------------------+-----------------------+-----------------------+-----------------------+\n",
            "| Attention_Disorder | Attention_Disorder(0) | Attention_Disorder(0) | Attention_Disorder(1) | Attention_Disorder(1) |\n",
            "+--------------------+-----------------------+-----------------------+-----------------------+-----------------------+\n",
            "| Fatigue            | Fatigue(0)            | Fatigue(1)            | Fatigue(0)            | Fatigue(1)            |\n",
            "+--------------------+-----------------------+-----------------------+-----------------------+-----------------------+\n",
            "| Car_Accident(0)    | 0.7864864864864864    | 0.21421319796954313   | 0.23717948717948717   | 0.03067484662576687   |\n",
            "+--------------------+-----------------------+-----------------------+-----------------------+-----------------------+\n",
            "| Car_Accident(1)    | 0.21351351351351353   | 0.7857868020304568    | 0.7628205128205128    | 0.9693251533742331    |\n",
            "+--------------------+-----------------------+-----------------------+-----------------------+-----------------------+\n",
            "CPD of Coughing:\n",
            "+-------------+--------------------+---------------------+--------------------+----------------+\n",
            "| Allergy     | Allergy(0)         | Allergy(0)          | Allergy(1)         | Allergy(1)     |\n",
            "+-------------+--------------------+---------------------+--------------------+----------------+\n",
            "| Lung_cancer | Lung_cancer(0)     | Lung_cancer(1)      | Lung_cancer(0)     | Lung_cancer(1) |\n",
            "+-------------+--------------------+---------------------+--------------------+----------------+\n",
            "| Coughing(0) | 0.8647887323943662 | 0.22940563086548488 | 0.3564356435643564 | 0.0            |\n",
            "+-------------+--------------------+---------------------+--------------------+----------------+\n",
            "| Coughing(1) | 0.1352112676056338 | 0.7705943691345151  | 0.6435643564356436 | 1.0            |\n",
            "+-------------+--------------------+---------------------+--------------------+----------------+\n",
            "CPD of Fatigue:\n",
            "+-------------+---------------------+---------------------+--------------------+---------------------+\n",
            "| Coughing    | Coughing(0)         | Coughing(0)         | Coughing(1)        | Coughing(1)         |\n",
            "+-------------+---------------------+---------------------+--------------------+---------------------+\n",
            "| Lung_cancer | Lung_cancer(0)      | Lung_cancer(1)      | Lung_cancer(0)     | Lung_cancer(1)      |\n",
            "+-------------+---------------------+---------------------+--------------------+---------------------+\n",
            "| Fatigue(0)  | 0.6411609498680739  | 0.45454545454545453 | 0.2752808988764045 | 0.10956663941128372 |\n",
            "+-------------+---------------------+---------------------+--------------------+---------------------+\n",
            "| Fatigue(1)  | 0.35883905013192613 | 0.5454545454545454  | 0.7247191011235955 | 0.8904333605887162  |\n",
            "+-------------+---------------------+---------------------+--------------------+---------------------+\n",
            "CPD of Anxiety:\n",
            "+------------+--------+\n",
            "| Anxiety(0) | 0.3695 |\n",
            "+------------+--------+\n",
            "| Anxiety(1) | 0.6305 |\n",
            "+------------+--------+\n",
            "CPD of Allergy:\n",
            "+------------+-------+\n",
            "| Allergy(0) | 0.657 |\n",
            "+------------+-------+\n",
            "| Allergy(1) | 0.343 |\n",
            "+------------+-------+\n",
            "CPD of Born_an_Even_Day:\n",
            "+---------------------+--------+\n",
            "| Born_an_Even_Day(0) | 0.5105 |\n",
            "+---------------------+--------+\n",
            "| Born_an_Even_Day(1) | 0.4895 |\n",
            "+---------------------+--------+\n"
          ]
        }
      ]
    },
    {
      "cell_type": "markdown",
      "source": [
        "\n",
        "####Table with the cdps taken from LUCAS against the ones we found out.\n",
        "The largest difference (0.07545) is in P(Fatigue=T|Lung cancer=F, Coughing=T)\n",
        "that is pretty big, but the other ones don't go above 0.03.\n",
        "The results overall seem satisfying\n",
        "\n",
        "P(Anxiety=T)=0.64277\t                              0.6305\n",
        "\n",
        "P(Peer Pressure=T)=0.32997\t                      \t0.3415\n",
        "\n",
        "P(Smoking=T|Peer Pressure=F, Anxiety=F)=0.43118\t\t  0.430327868852459\n",
        "\n",
        "P(Smoking=T|Peer Pressure=T, Anxiety=F)=0.74591\t\t  0.7131474103585658\n",
        "\n",
        "P(Smoking=T|Peer Pressure=F, Anxiety=T)=0.8686\t\t  0.8685162846803377\n",
        "\n",
        "P(Smoking=T|Peer Pressure=T, Anxiety=T)=0.91576\t\t  0.9166666666666666\n",
        "\n",
        "\n",
        "P(Yellow Fingers=T|Smoking=F)=0.23119               0.22424242424242424\n",
        "\n",
        "P(Yellow Fingers=T|Smoking=T)=0.95372               0.9654485049833887\n",
        "\n",
        "P(Genetics=T)=0.15953                               0.1395\n",
        "\n",
        "P(Lung cancer=T|Genetics=F, Smoking=F)=0.23146\t\t\t0.2517482517482518\n",
        "\n",
        "P(Lung cancer=T|Genetics=T, Smoking=F)=0.86996\t\t\t0.8939393939393939\n",
        "\n",
        "P(Lung cancer=T|Genetics=F, Smoking=T)=0.83934\t\t\t0.8227554179566563\n",
        "\n",
        "P(Lung cancer=T|Genetics=T, Smoking=T)=0.99351\t\t  1.0\n",
        "\n",
        "P(Attention Disorder=T|Genetics=F)=0.28956\t\t      0.27193492155723414\n",
        "\n",
        "P(Attention Disorder=T|Genetics=T)=0.68706\t\t      0.6344086021505376\n",
        "\n",
        "P(Born an Even Day=T)=0.5\t\t\t                      0.4895\n",
        "\n",
        "P(Allergy=T)=0.32841\t\t\t                          0.343\n",
        "\n",
        "P(Coughing=T|Allergy=F, Lung cancer=F)=0.1347\t\t    0.1352112676056338\n",
        "\n",
        "P(Coughing=T|Allergy=T, Lung cancer=F)=0.64592\t\t  0.6435643564356436\n",
        "\n",
        "P(Coughing=T|Allergy=F, Lung cancer=T)=0.7664\t\t    0.7705943691345151\n",
        "\n",
        "P(Coughing=T|Allergy=T, Lung cancer=T)=0.99947\t\t\t1.0\n",
        "\n",
        "P(Fatigue=T|Lung cancer=F, Coughing=F)=0.35212\t\t  0.35883905013192613\n",
        "\n",
        "P(Fatigue=T|Lung cancer=T, Coughing=F)=0.56514\t\t  0.5454545454545454\n",
        "\n",
        "P(Fatigue=T|Lung cancer=F, Coughing=T)=0.80016\t\t  0.7247191011235955\n",
        "\n",
        "P(Fatigue=T|Lung cancer=T, Coughing=T)=0.89589\t\t  0.8904333605887162\n",
        "\n",
        "P(Car Accident=T|Attention Disorder=F, Fatigue=F)=0.2274\t\t  0.21351351351351353\n",
        "\n",
        "P(Car Accident=T|Attention Disorder=T, Fatigue=F)=0.779\t\t    0.7628205128205128\n",
        "\n",
        "P(Car Accident=T|Attention Disorder=F, Fatigue=T)=0.78861\t\t\t0.7857868020304568\n",
        "\n",
        "P(Car Accident=T|Attention Disorder=T, Fatigue=T)=0.97169\t\t  0.9693251533742331\n"
      ],
      "metadata": {
        "id": "g7CTTDECNTRA"
      }
    },
    {
      "cell_type": "markdown",
      "source": [
        "## Conditional and Interventional Estimate\n",
        "\n",
        "What is a valid adjustment set to estimate the causal effect of `Lung_cancer` on `Car Accident`? Justify your choice and compute the Average Treatment Effect. Then, compute the difference between conditional expectations and discuss whether they agree or not."
      ],
      "metadata": {
        "id": "YrQiK-ThVfKD"
      }
    },
    {
      "cell_type": "code",
      "source": [
        "from dowhy import CausalModel"
      ],
      "metadata": {
        "id": "zVU1BCFgIA_u"
      },
      "execution_count": null,
      "outputs": []
    },
    {
      "cell_type": "markdown",
      "source": [
        "The adjustment set is composed only by the node Genetics, as it is the only parent of X that allows for a path to Y which doesn't include X (that is, the one through attention_disorder)"
      ],
      "metadata": {
        "id": "1IXUQLbJFjFa"
      }
    },
    {
      "cell_type": "markdown",
      "source": [
        "### Car Accident conditioned only on Lung cancer\n",
        "We compute the difference between the average value of car accident given lung cancer and given no lung cancer and check the difference between those values\n",
        "\n",
        "$E[\\text{CarAccident} \\mid \\text{LungCancer = 1}]-E[\\text{CarAccident} \\mid \\text{LungCancer = 0}]$"
      ],
      "metadata": {
        "id": "Pw6z6oHvbXVF"
      }
    },
    {
      "cell_type": "code",
      "source": [
        "# Compute the conditional means\n",
        "mean_Y_given_X1 = data.loc[data['Lung_cancer'] == 1, 'Car_Accident'].mean()\n",
        "mean_Y_given_X0 = data.loc[data['Lung_cancer'] == 0, 'Car_Accident'].mean()\n",
        "\n",
        "# Compute the difference between the two\n",
        "conditional_diff = mean_Y_given_X1 - mean_Y_given_X0\n",
        "print(mean_Y_given_X1)\n",
        "print(mean_Y_given_X0)\n",
        "print(conditional_diff)"
      ],
      "metadata": {
        "colab": {
          "base_uri": "https://localhost:8080/"
        },
        "id": "jT4BvJHLwfMF",
        "outputId": "5d9f5cf0-f60e-4885-f8c2-b65abc9d5b06"
      },
      "execution_count": null,
      "outputs": [
        {
          "output_type": "stream",
          "name": "stdout",
          "text": [
            "0.7699237699237699\n",
            "0.6014362657091562\n",
            "0.16848750421461367\n"
          ]
        }
      ]
    },
    {
      "cell_type": "markdown",
      "source": [
        "### ATE computation using Genetics\n",
        "We compute\n",
        "\n",
        "$\\sum_{w \\in \\{0,1\\}} E[\\text{CarAccident} \\mid \\text{LungCancer = 1}, \\text{Genetics}=w] \\cdot P(\\text{Genetics}=w)$\n",
        "\n",
        "and\n",
        "\n",
        "$\\sum_{w \\in \\{0,1\\}} E[\\text{CarAccident} \\mid \\text{LungCancer = 0}, \\text{Genetics}=w] \\cdot P(\\text{Genetics}=w)$\n",
        "\n",
        "Using the values from the dataset: the difference between them is the average treatment effect, adjusted for genetics"
      ],
      "metadata": {
        "id": "SF8P58yfbfmz"
      }
    },
    {
      "cell_type": "code",
      "source": [
        "# We compute a matrix of lung cancer and genetics 0s and 1s and count how many points\n",
        "# have car accident = 1 in each square of the matrix\n",
        "X1_G1 = data.loc[(data['Lung_cancer'] == 1) & (data['Genetics'] == 1), 'Car_Accident'].mean()\n",
        "X1_G0 = data.loc[(data['Lung_cancer'] == 1) & (data['Genetics'] == 0), 'Car_Accident'].mean()\n",
        "X0_G1 = data.loc[(data['Lung_cancer'] == 0) & (data['Genetics'] == 1), 'Car_Accident'].mean()\n",
        "X0_G0 = data.loc[(data['Lung_cancer'] == 0) & (data['Genetics'] == 0), 'Car_Accident'].mean()\n",
        "\n",
        "# We compute the marginal distribution of Genetics\n",
        "P_G1 = (data['Genetics'] == 1).mean()\n",
        "P_G0 = 1 - P_G1\n",
        "\n",
        "# We adjust expectations according to the distribution of Genetics\n",
        "Y_do_X1 = X1_G1 * P_G1 + X1_G0 * P_G0\n",
        "Y_do_X0 = X0_G1 * P_G1 + X0_G0 * P_G0\n",
        "\n",
        "# We compute the difference between the points where\n",
        "adjusted_ate = Y_do_X1 - Y_do_X0\n",
        "print(Y_do_X1)\n",
        "print(Y_do_X0)\n",
        "print(adjusted_ate)"
      ],
      "metadata": {
        "colab": {
          "base_uri": "https://localhost:8080/"
        },
        "id": "v5exmb_Ehryz",
        "outputId": "4c6b3607-1d8b-438d-d170-8ea5fd33f8cf"
      },
      "execution_count": null,
      "outputs": [
        {
          "output_type": "stream",
          "name": "stdout",
          "text": [
            "0.7624697075777365\n",
            "0.5975788311688313\n",
            "0.1648908764089052\n"
          ]
        }
      ]
    },
    {
      "cell_type": "markdown",
      "source": [
        "\n",
        "The result we just got from our ATE computation is extremely close to the one we had gotten without conditioning on genetics\n",
        "\n",
        "This implies that Genetics is not actually a good adjustment set (or that there is very little effect to adjust for), as we had hypothized"
      ],
      "metadata": {
        "id": "PMIELmzeMAL4"
      }
    },
    {
      "cell_type": "code",
      "source": [
        "# we count in absolute terms the relationships between genetics and lung cancer\n",
        "print(len(data.loc[(data['Genetics'] == 1) & (data['Lung_cancer'] == 0)]))\n",
        "print(len(data.loc[(data['Genetics'] == 1) & (data['Lung_cancer'] == 1)]))\n",
        "print(len(data.loc[(data['Genetics'] == 0) & (data['Lung_cancer'] == 1)]))\n",
        "print(len(data.loc[(data['Genetics'] == 0) & (data['Lung_cancer'] == 0)]))\n"
      ],
      "metadata": {
        "colab": {
          "base_uri": "https://localhost:8080/"
        },
        "id": "Y38Q0_yskbaU",
        "outputId": "676c6878-bcf0-4679-aa58-b7655f7ab730"
      },
      "execution_count": null,
      "outputs": [
        {
          "output_type": "stream",
          "name": "stdout",
          "text": [
            "7\n",
            "272\n",
            "1171\n",
            "550\n"
          ]
        }
      ]
    },
    {
      "cell_type": "markdown",
      "source": [
        "It seems that the vast majority of values in which Genetics is 1 also have lung cancer equal to 1. This might not be the best sign of a good adjustment set.\n",
        "Since attention disorder also blocks the backdoor path (as it is the only other child of genetics), let's try exploring it too"
      ],
      "metadata": {
        "id": "z15W55GpQtwH"
      }
    },
    {
      "cell_type": "code",
      "source": [
        "# we count in absolute terms the relationships between lung cancer and attention disorder\n",
        "print(len(data.loc[(data['Attention_Disorder'] == 1) & (data['Lung_cancer'] == 0)]))\n",
        "print(len(data.loc[(data['Attention_Disorder'] == 1) & (data['Lung_cancer'] == 1)]))\n",
        "print(len(data.loc[(data['Attention_Disorder'] == 0) & (data['Lung_cancer'] == 1)]))\n",
        "print(len(data.loc[(data['Attention_Disorder'] == 0) & (data['Lung_cancer'] == 0)]))"
      ],
      "metadata": {
        "colab": {
          "base_uri": "https://localhost:8080/"
        },
        "id": "zuovi5_aNEOY",
        "outputId": "14efd5c5-3618-45e6-f16a-f4c757eb11cf"
      },
      "execution_count": null,
      "outputs": [
        {
          "output_type": "stream",
          "name": "stdout",
          "text": [
            "151\n",
            "494\n",
            "949\n",
            "406\n"
          ]
        }
      ]
    },
    {
      "cell_type": "markdown",
      "source": [
        "### ATE using attention disorder\n",
        "Attention disorder seems to not share the same problem as genetics. Let's try running the same code as before using it as our adjustment set"
      ],
      "metadata": {
        "id": "ZfSwlwWLVphu"
      }
    },
    {
      "cell_type": "code",
      "source": [
        "# We compute a matrix of lung cancer and attention disorder 0s and 1s and count how many points\n",
        "# have car accident = 1 in each square of the matrix\n",
        "X1_A1 = data.loc[(data['Lung_cancer'] == 1) & (data['Attention_Disorder'] == 1), 'Car_Accident'].mean()\n",
        "X1_A0 = data.loc[(data['Lung_cancer'] == 1) & (data['Attention_Disorder'] == 0), 'Car_Accident'].mean()\n",
        "X0_A1 = data.loc[(data['Lung_cancer'] == 0) & (data['Attention_Disorder'] == 1), 'Car_Accident'].mean()\n",
        "X0_A0 = data.loc[(data['Lung_cancer'] == 0) & (data['Attention_Disorder'] == 0), 'Car_Accident'].mean()\n",
        "\n",
        "# We compute the marginal distribution of attention disorder\n",
        "P_A1 = (data['Attention_Disorder'] == 1).mean()\n",
        "P_A0 = 1 - P_G1\n",
        "\n",
        "# We adjust expectations according to the distribution of attention disorder\n",
        "Y_do_X1 = X1_A1 * P_A1 + X1_A0 * P_A0\n",
        "Y_do_X0 = X0_A1 * P_A1 + X0_A0 * P_A0\n",
        "\n",
        "# We compute the difference between the points where\n",
        "adjusted_ate = Y_do_X1 - Y_do_X0\n",
        "print(Y_do_X1)\n",
        "print(Y_do_X0)\n",
        "print(adjusted_ate)"
      ],
      "metadata": {
        "colab": {
          "base_uri": "https://localhost:8080/"
        },
        "id": "heGVbiBRLN7F",
        "outputId": "48404478-478e-4313-afb8-43ccdfa6ba9b"
      },
      "execution_count": null,
      "outputs": [
        {
          "output_type": "stream",
          "name": "stdout",
          "text": [
            "0.7645700460318341\n",
            "0.6174012331582553\n",
            "0.14716881287357875\n"
          ]
        }
      ]
    },
    {
      "cell_type": "markdown",
      "source": [
        "The effect now is slightly lower than the one we had previously estimated using genetics. It is still very similar to the naive one but not uncanningly so"
      ],
      "metadata": {
        "id": "6ts2cPf4V-6s"
      }
    },
    {
      "cell_type": "markdown",
      "source": [
        "### ATE estimation using dowhy\n",
        "\n",
        " dowhy has its own ate function, so we try it to compare its results with ours\n",
        " we first need to build the model. For some reason i'm unable to utilize the\n",
        " one i had originally built during the structure learning (from my understanding casuallearn is part of pywhy) but luckily CausalModel accepts nx graphs as input\n",
        "\n",
        " Printing the result confirms us that genetics was indeed the adjustment_set\n",
        " frontdoor is another method that is explained in the book that requires\n",
        " a different adjustment set from the one we use in backdoor\n",
        "\n"
      ],
      "metadata": {
        "id": "4swTifrTbUkz"
      }
    },
    {
      "cell_type": "code",
      "source": [
        "# we build the dowhy causalmodel using our graph and data\n",
        "modeldw = CausalModel(\n",
        "    data=data,\n",
        "    treatment='Lung_cancer',\n",
        "    outcome='Car_Accident',\n",
        "    graph=nx_graph\n",
        ")\n",
        "\n",
        "# i don't really understand why but the estimate is a required input in\n",
        "# the estimate_effect method, which we will use later.\n",
        "# running this function also helps us confirm our adjustment sets\n",
        "estimand = modeldw.identify_effect()\n",
        "\n",
        "# we print this\n",
        "print(estimand)\n"
      ],
      "metadata": {
        "colab": {
          "base_uri": "https://localhost:8080/"
        },
        "id": "cfK1vieqwYzG",
        "outputId": "3e893d1d-3633-4898-ba94-88f7b8d7e488",
        "collapsed": true
      },
      "execution_count": null,
      "outputs": [
        {
          "output_type": "stream",
          "name": "stderr",
          "text": [
            "INFO:dowhy.causal_model:Model to find the causal effect of treatment ['Lung_cancer'] on outcome ['Car_Accident']\n",
            "WARNING:dowhy.causal_model:There are an additional 1 variables in the dataset that are not in the graph. Variable names are: '['Born_an_Even_Day']'\n",
            "INFO:dowhy.causal_identifier.auto_identifier:Causal effect can be identified.\n",
            "INFO:dowhy.causal_identifier.auto_identifier:Instrumental variables for treatment and outcome:['Smoking']\n",
            "INFO:dowhy.causal_identifier.auto_identifier:Frontdoor variables for treatment and outcome:['Fatigue', 'Coughing']\n",
            "INFO:dowhy.causal_identifier.auto_identifier:Causal effect can be identified.\n",
            "INFO:dowhy.causal_identifier.auto_identifier:Causal effect can be identified.\n"
          ]
        },
        {
          "output_type": "stream",
          "name": "stdout",
          "text": [
            "Estimand type: EstimandType.NONPARAMETRIC_ATE\n",
            "\n",
            "### Estimand : 1\n",
            "Estimand name: backdoor\n",
            "Estimand expression:\n",
            "      d                                           \n",
            "──────────────(E[Car_Accident|Attention_Disorder])\n",
            "d[Lung_cancer]                                    \n",
            "Estimand assumption 1, Unconfoundedness: If U→{Lung_cancer} and U→Car_Accident then P(Car_Accident|Lung_cancer,Attention_Disorder,U) = P(Car_Accident|Lung_cancer,Attention_Disorder)\n",
            "\n",
            "### Estimand : 2\n",
            "Estimand name: iv\n",
            "Estimand expression:\n",
            " ⎡                                                    -1⎤\n",
            " ⎢    d                    ⎛    d                    ⎞  ⎥\n",
            "E⎢──────────(Car_Accident)⋅⎜──────────([Lung_cancer])⎟  ⎥\n",
            " ⎣d[Smoking]               ⎝d[Smoking]               ⎠  ⎦\n",
            "Estimand assumption 1, As-if-random: If U→→Car_Accident then ¬(U →→{Smoking})\n",
            "Estimand assumption 2, Exclusion: If we remove {Smoking}→{Lung_cancer}, then ¬({Smoking}→Car_Accident)\n",
            "\n",
            "### Estimand : 3\n",
            "Estimand name: frontdoor\n",
            "Estimand expression:\n",
            " ⎡         d                               ∂                            ⎤\n",
            "E⎢────────────────────(Car_Accident)⋅──────────────([Fatigue  Coughing])⎥\n",
            " ⎣d[Fatigue  Coughing]               ∂[Lung_cancer]                     ⎦\n",
            "Estimand assumption 1, Full-mediation: Fatigue,Coughing intercepts (blocks) all directed paths from Lung_cancer to C,a,r,_,A,c,c,i,d,e,n,t.\n",
            "Estimand assumption 2, First-stage-unconfoundedness: If U→{Lung_cancer} and U→{Fatigue,Coughing} then P(Fatigue,Coughing|Lung_cancer,U) = P(Fatigue,Coughing|Lung_cancer)\n",
            "Estimand assumption 3, Second-stage-unconfoundedness: If U→{Fatigue,Coughing} and U→Car_Accident then P(Car_Accident|Fatigue,Coughing, Lung_cancer, U) = P(Car_Accident|Fatigue,Coughing, Lung_cancer)\n",
            "\n"
          ]
        }
      ]
    },
    {
      "cell_type": "markdown",
      "source": [
        "\n",
        " We try both the backdoor and frontdoor methods as they are already implemented in dowhy\n"
      ],
      "metadata": {
        "id": "hS8X-v1vaUGG"
      }
    },
    {
      "cell_type": "code",
      "source": [
        "# we run the estimation function using genetics, as suggested by the estimand\n",
        "estimatebackgen = modeldw.estimate_effect(\n",
        "    estimand,\n",
        "    method_name=\"backdoor.linear_regression\",\n",
        "    method_params={\"backdoor_adjustment_set\": [\"Genetics\"]}\n",
        ")\n",
        "\n",
        "# we also run using attention disorder, as it had given us more promising results\n",
        "estimatebackad = modeldw.estimate_effect(\n",
        "    estimand,\n",
        "    method_name=\"backdoor.linear_regression\",\n",
        "    method_params={\"backdoor_adjustment_set\": [\"Attention_Disorder\"]}\n",
        ")\n",
        "\n",
        "# we run the frontdoor effect estimation function using the values we obtained\n",
        "# from identify_effect\n",
        "estimatefront = modeldw.estimate_effect(\n",
        "    estimand,\n",
        "    method_name=\"frontdoor.linear_regression\",\n",
        "    method_params={\"frontdoor_adjustment_set\": [\"Coughing\",  \"Fatigue\"]}\n",
        ")\n",
        "\n",
        "# we print the results\n",
        "print(estimatebackgen.value, '\\n', estimatebackad.value, '\\n', estimatefront.value)"
      ],
      "metadata": {
        "colab": {
          "base_uri": "https://localhost:8080/"
        },
        "id": "QecAg1BMaS-y",
        "outputId": "ad7aab30-9c43-4759-f795-845a7b477302"
      },
      "execution_count": null,
      "outputs": [
        {
          "output_type": "stream",
          "name": "stderr",
          "text": [
            "INFO:dowhy.causal_model:linear_regression\n",
            "INFO:dowhy.causal_estimator:INFO: Using Linear Regression Estimator\n",
            "INFO:dowhy.causal_estimator:b: Car_Accident~Lung_cancer+Attention_Disorder+Lung_cancer*Allergy+Lung_cancer*Attention_Disorder\n",
            "INFO:dowhy.causal_model:linear_regression\n",
            "INFO:dowhy.causal_estimator:INFO: Using Linear Regression Estimator\n",
            "INFO:dowhy.causal_estimator:b: Car_Accident~Lung_cancer+Attention_Disorder+Lung_cancer*Allergy+Lung_cancer*Attention_Disorder\n",
            "INFO:dowhy.causal_model:linear_regression\n",
            "INFO:dowhy.causal_estimator:INFO: Using Linear Regression Estimator\n",
            "INFO:dowhy.causal_estimator:b: Car_Accident~Lung_cancer+Attention_Disorder+Lung_cancer*Allergy+Lung_cancer*Attention_Disorder\n"
          ]
        },
        {
          "output_type": "stream",
          "name": "stdout",
          "text": [
            "0.14725341493995192 \n",
            " 0.14725341493995192 \n",
            " 0.14725341493995192\n"
          ]
        }
      ]
    },
    {
      "cell_type": "markdown",
      "source": [
        "All functions give us the same result.\n",
        "In the backdoor method the algorithm is probably able to use whatever set completely blocks the path, which makes this result easily predictable, while in the frontdoor method it is more interesting to see it get the same results.\n",
        "\n",
        "All results are also generally much closer to the one we had found using attention disorder as our adjustment set.\n"
      ],
      "metadata": {
        "id": "kDumGkDqWXVH"
      }
    },
    {
      "cell_type": "markdown",
      "source": [
        "### Conclusions\n",
        "Despite my initial enthusiasm genetics proved itself not to be the correct adjustment set. The fact that the edge between it and attention disorder had to be manually directed only prompted me to think that there is a weak causal relationship between genetics and attention disorder, which in my eyes explained the weak effect genetics had as an adjustment set. Had i been more open minded i would have lost much less time exploring libraries.\n",
        "\n",
        " Regarding the slight difference between dowhy's and my estimations, given that we use the same data and refer to the same function in our computation, there must be something something i don't expect to be happening in the linear regression method of dowhy (looking at the linear_regression_estimator function, which is called in dowhy/causal_model it is unclear what the library does with this linear estimator but given the nature of the problem there are not many guesses). This is a problem i explored too deeply before trying out attention disorder as an adjustment set, but it might still be somewhat interesting to note.\n"
      ],
      "metadata": {
        "id": "YbPqaCsuJPon"
      }
    }
  ]
}